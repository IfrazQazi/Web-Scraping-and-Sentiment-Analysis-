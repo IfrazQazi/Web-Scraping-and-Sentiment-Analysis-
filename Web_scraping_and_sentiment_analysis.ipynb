{
  "nbformat": 4,
  "nbformat_minor": 0,
  "metadata": {
    "colab": {
      "name": "Web scraping and sentiment analysis.ipynb",
      "provenance": [],
      "authorship_tag": "ABX9TyM4fGRn1o1R2IcNXsfAEwJa",
      "include_colab_link": true
    },
    "kernelspec": {
      "name": "python3",
      "display_name": "Python 3"
    },
    "language_info": {
      "name": "python"
    }
  },
  "cells": [
    {
      "cell_type": "markdown",
      "metadata": {
        "id": "view-in-github",
        "colab_type": "text"
      },
      "source": [
        "<a href=\"https://colab.research.google.com/github/IfrazQazi/Web-Scraping-and-Sentiment-Analysis-/blob/main/Web_scraping_and_sentiment_analysis.ipynb\" target=\"_parent\"><img src=\"https://colab.research.google.com/assets/colab-badge.svg\" alt=\"Open In Colab\"/></a>"
      ]
    },
    {
      "cell_type": "markdown",
      "source": [
        "##**Objective**\n",
        "The objective of this assignment is to extract textual data articles from the given URL and perform text analysis to compute variables that are explained below. \n",
        "\n",
        "##**Data Extraction**\n",
        "\n",
        "\n",
        "For each of the articles, given in the input.xlsx file, extract the article text and save the extracted article in a text file with URL_ID as its file name.\n",
        "While extracting text, please make sure your program extracts only the article title and the article text. It should not extract the website header, footer, or anything other than the article text. \n",
        "\n",
        "##**Data Analysis**\n",
        "For each of the extracted texts from the article, perform textual analysis and compute variables.\n",
        "##**Variables**\n",
        "\n",
        "* POSITIVE SCORE\n",
        "* NEGATIVE SCORE\n",
        "* POLARITY SCORE\n",
        "* SUBJECTIVITY SCORE\n",
        "* AVG SENTENCE LENGTH\n",
        "* PERCENTAGE OF COMPLEX WORDS\n",
        "* FOG INDEX\n",
        "* AVG NUMBER OF WORDS PER SENTENCE\n",
        "* COMPLEX WORD COUNT\n",
        "* WORD COUNT\n",
        "* SYLLABLE PER WORD\n",
        "* PERSONAL PRONOUNS\n",
        "* AVG WORD LENGTH\n",
        "\n"
      ],
      "metadata": {
        "id": "LSpjbEwXmW1V"
      }
    },
    {
      "cell_type": "code",
      "source": [
        ""
      ],
      "metadata": {
        "id": "lmcGCBcspK-V"
      },
      "execution_count": null,
      "outputs": []
    }
  ]
}
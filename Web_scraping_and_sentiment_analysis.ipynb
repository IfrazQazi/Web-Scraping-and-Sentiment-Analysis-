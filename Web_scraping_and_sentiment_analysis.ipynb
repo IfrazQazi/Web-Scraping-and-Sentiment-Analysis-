{
  "nbformat": 4,
  "nbformat_minor": 0,
  "metadata": {
    "colab": {
      "name": "Web scraping and sentiment analysis.ipynb",
      "provenance": [],
      "mount_file_id": "1OaXCjxXTCaL4iOjqhOAmK2_7alTWMqV8",
      "authorship_tag": "ABX9TyO7H1QDHN6Ff4CMduMLJi/F",
      "include_colab_link": true
    },
    "kernelspec": {
      "name": "python3",
      "display_name": "Python 3"
    },
    "language_info": {
      "name": "python"
    }
  },
  "cells": [
    {
      "cell_type": "markdown",
      "metadata": {
        "id": "view-in-github",
        "colab_type": "text"
      },
      "source": [
        "<a href=\"https://colab.research.google.com/github/IfrazQazi/Web-Scraping-and-Sentiment-Analysis-/blob/main/Web_scraping_and_sentiment_analysis.ipynb\" target=\"_parent\"><img src=\"https://colab.research.google.com/assets/colab-badge.svg\" alt=\"Open In Colab\"/></a>"
      ]
    },
    {
      "cell_type": "markdown",
      "source": [
        "##**Objective**\n",
        "The objective of this assignment is to extract textual data articles from the given URL and perform text analysis to compute variables that are explained below. \n",
        "\n",
        "##**Data Extraction**\n",
        "\n",
        "\n",
        "For each of the articles, given in the input.xlsx file, extract the article text and save the extracted article in a text file with URL_ID as its file name.\n",
        "While extracting text, please make sure your program extracts only the article title and the article text. It should not extract the website header, footer, or anything other than the article text. \n",
        "\n",
        "##**Data Analysis**\n",
        "For each of the extracted texts from the article, perform textual analysis and compute variables.\n",
        "##**Variables**\n",
        "\n",
        "* POSITIVE SCORE\n",
        "* NEGATIVE SCORE\n",
        "* POLARITY SCORE\n",
        "* SUBJECTIVITY SCORE\n",
        "* AVG SENTENCE LENGTH\n",
        "* PERCENTAGE OF COMPLEX WORDS\n",
        "* FOG INDEX\n",
        "* AVG NUMBER OF WORDS PER SENTENCE\n",
        "* COMPLEX WORD COUNT\n",
        "* WORD COUNT\n",
        "* SYLLABLE PER WORD\n",
        "* PERSONAL PRONOUNS\n",
        "* AVG WORD LENGTH\n",
        "\n"
      ],
      "metadata": {
        "id": "LSpjbEwXmW1V"
      }
    },
    {
      "cell_type": "markdown",
      "source": [
        "## Lets understand variables\n"
      ],
      "metadata": {
        "id": "MVduBcQbo-QC"
      }
    },
    {
      "cell_type": "markdown",
      "source": [
        "##**Sentimental Analysis**\n",
        "## Sentimental analysis is the process of determining whether a piece of writing is positive, negative or neutral.\n",
        "* **POSITIVE SCORE**\n",
        "* **NEGATIVE SCORE**\n",
        "\n",
        "##**POLARITY SCORE**\n",
        "## Polarity lies between [-1,1], -1 defines a negative sentiment and 1 defines a positive sentiment.\n",
        "\n",
        "##**SUBJECTIVITY SCORE**\n",
        "## Subjectivity quantifies the amount of personal opinion and factual information contained in the text.\n",
        "## The higher subjectivity means that the text contains personal opinion rather than factual information."
      ],
      "metadata": {
        "id": "fvnw46HJprL8"
      }
    },
    {
      "cell_type": "markdown",
      "source": [
        "##**Analysis of Readability**\n",
        "##Analysis of Readability is calculated using the Gunning Fox index formula described below.\n",
        "* **Average Sentence Length** = the number of words / the number of sentences\n",
        "\n",
        "* **Percentage of Complex words** = the number of complex words / the number of words\n",
        "\n",
        "* **Fog Index** = 0.4 * (Average Sentence Length + Percentage of Complex words)\n",
        "\n",
        "*  **Fog Index :**\n",
        "\n",
        "  The fog index is commonly used to confirm that text can be read easily by the intended audience. Texts for a wide audience generally need a fog index less than 12. Texts requiring near-universal understanding generally need an index less than 8."
      ],
      "metadata": {
        "id": "2GnZ71L_toU2"
      }
    },
    {
      "cell_type": "markdown",
      "source": [
        "## **Average Number of Words Per Sentence**\n",
        "##The formula for calculating is:\n",
        "**Average Number of Words Per Sentence** = the total number of words / the total number of sentences\n",
        "\n",
        "## **Complex Word Count**\n",
        " ## Complex words are words in the text that contain more than two syllables.\n",
        "\n",
        "## **Word Count**\n",
        "## We count the total cleaned words present in the text by \n",
        "1. removing the stop words (using stopwords class of nltk package).\n",
        "2. removing any punctuations like ? ! , . from the word before counting.\n",
        "\n"
      ],
      "metadata": {
        "id": "uxIdjEqLvDfd"
      }
    },
    {
      "cell_type": "markdown",
      "source": [
        "## **Syllable Count Per Word :**\n",
        "## We count the number of Syllables in each word of the text by counting the vowels present in each word. We also handle some exceptions like words ending with \"es\",\"ed\" by not counting them as a syllable.\n",
        "\n",
        "## **Personal Pronouns**\n",
        "## To calculate Personal Pronouns mentioned in the text, we use regex to find the counts of the words\n",
        "\n",
        "* “I,” “we,” “my,” “ours,” and “us”. Special care is taken so that the country name US is not included in the list.\n",
        "\n",
        "##**Average Word Length:**\n",
        "## Average Word Length is calculated by the formula:\n",
        "* Sum of the total number of characters in each word/Total number of words\n"
      ],
      "metadata": {
        "id": "NoKxczKUwQde"
      }
    },
    {
      "cell_type": "markdown",
      "source": [
        "## So first lets import libraries"
      ],
      "metadata": {
        "id": "E99Khv9QxtQO"
      }
    },
    {
      "cell_type": "code",
      "source": [
        "## importing libraries\n",
        "import pandas as pd\n",
        "import requests\n",
        "import numpy as np\n",
        "from bs4 import BeautifulSoup "
      ],
      "metadata": {
        "id": "lmcGCBcspK-V"
      },
      "execution_count": 1,
      "outputs": []
    },
    {
      "cell_type": "code",
      "source": [
        "import nltk                 ## importing nltk library\n",
        "nltk.download('stopwords')"
      ],
      "metadata": {
        "id": "wLAV0aRAx1sr",
        "colab": {
          "base_uri": "https://localhost:8080/"
        },
        "outputId": "7c9bf7b1-a4d0-4412-f0cb-4bc6522899be"
      },
      "execution_count": 2,
      "outputs": [
        {
          "output_type": "stream",
          "name": "stdout",
          "text": [
            "[nltk_data] Downloading package stopwords to /root/nltk_data...\n",
            "[nltk_data]   Unzipping corpora/stopwords.zip.\n"
          ]
        },
        {
          "output_type": "execute_result",
          "data": {
            "text/plain": [
              "True"
            ]
          },
          "metadata": {},
          "execution_count": 2
        }
      ]
    },
    {
      "cell_type": "code",
      "source": [
        "from nltk.corpus import stopwords"
      ],
      "metadata": {
        "id": "NLOQjGfH9WBv"
      },
      "execution_count": 3,
      "outputs": []
    },
    {
      "cell_type": "markdown",
      "source": [
        "## Creating some function which we will use later"
      ],
      "metadata": {
        "id": "4H0lYUKS_ZWw"
      }
    },
    {
      "cell_type": "code",
      "source": [
        "# extracting the stopwords from nltk library\n",
        "sw = stopwords.words('english')"
      ],
      "metadata": {
        "id": "W_19jiY_9cNz"
      },
      "execution_count": 4,
      "outputs": []
    },
    {
      "cell_type": "code",
      "source": [
        "def stopwords(text):\n",
        "    '''a function for removing the stopword'''\n",
        "    # removing the stop words and lowercasing the selected words\n",
        "    text = [word.lower() for word in text.split() if word.lower() not in sw]\n",
        "    # joining the list of words with space separator\n",
        "    return \" \".join(text)"
      ],
      "metadata": {
        "id": "QeBvROgU9fSH"
      },
      "execution_count": 5,
      "outputs": []
    },
    {
      "cell_type": "code",
      "source": [
        "\n",
        "nltk.download('punkt')\n",
        "from nltk.tokenize import sent_tokenize\n",
        "\n",
        "def number_of_sentences(text): ## number of sentences in paragraph\n",
        "    number_of_sentence = sent_tokenize(text)\n",
        "    count_of_sentences = len(number_of_sentence)\n",
        "    return count_of_sentences\n",
        "# print(number_of_sentence)"
      ],
      "metadata": {
        "colab": {
          "base_uri": "https://localhost:8080/"
        },
        "id": "plSfYHYx9q2z",
        "outputId": "9bd9d85d-f94b-4ec5-a123-1da0b529f056"
      },
      "execution_count": 6,
      "outputs": [
        {
          "output_type": "stream",
          "name": "stdout",
          "text": [
            "[nltk_data] Downloading package punkt to /root/nltk_data...\n",
            "[nltk_data]   Unzipping tokenizers/punkt.zip.\n"
          ]
        }
      ]
    },
    {
      "cell_type": "code",
      "source": [
        "def remove_punctuation(text):\n",
        "    '''a function for removing punctuation'''\n",
        "    import string\n",
        "    # replacing the punctuations with no space, \n",
        "    # which in effect deletes the punctuation marks \n",
        "    translator = str.maketrans('', '', string.punctuation)\n",
        "    # return the text stripped of punctuation marks\n",
        "    return text.translate(translator)"
      ],
      "metadata": {
        "id": "gqwywq8G9xlP"
      },
      "execution_count": 7,
      "outputs": []
    },
    {
      "cell_type": "code",
      "source": [
        "df= pd.read_excel('/content/drive/MyDrive/Web_scraping/Input.xlsx') ## read excel file"
      ],
      "metadata": {
        "id": "CuYKs50N96bX"
      },
      "execution_count": 8,
      "outputs": []
    },
    {
      "cell_type": "code",
      "source": [
        "df.head()"
      ],
      "metadata": {
        "colab": {
          "base_uri": "https://localhost:8080/",
          "height": 206
        },
        "id": "myKEMP1pDXyi",
        "outputId": "782acde5-7dfc-4d18-cd1a-044996dab3d4"
      },
      "execution_count": 9,
      "outputs": [
        {
          "output_type": "execute_result",
          "data": {
            "text/plain": [
              "   URL_ID                                                URL\n",
              "0     1.0  https://insights.blackcoffer.com/how-is-login-...\n",
              "1     2.0  https://insights.blackcoffer.com/how-does-ai-h...\n",
              "2     3.0  https://insights.blackcoffer.com/ai-and-its-im...\n",
              "3     4.0  https://insights.blackcoffer.com/how-do-deep-l...\n",
              "4     5.0  https://insights.blackcoffer.com/how-artificia..."
            ],
            "text/html": [
              "\n",
              "  <div id=\"df-1270e846-00e6-4838-92e7-80b6317538d8\">\n",
              "    <div class=\"colab-df-container\">\n",
              "      <div>\n",
              "<style scoped>\n",
              "    .dataframe tbody tr th:only-of-type {\n",
              "        vertical-align: middle;\n",
              "    }\n",
              "\n",
              "    .dataframe tbody tr th {\n",
              "        vertical-align: top;\n",
              "    }\n",
              "\n",
              "    .dataframe thead th {\n",
              "        text-align: right;\n",
              "    }\n",
              "</style>\n",
              "<table border=\"1\" class=\"dataframe\">\n",
              "  <thead>\n",
              "    <tr style=\"text-align: right;\">\n",
              "      <th></th>\n",
              "      <th>URL_ID</th>\n",
              "      <th>URL</th>\n",
              "    </tr>\n",
              "  </thead>\n",
              "  <tbody>\n",
              "    <tr>\n",
              "      <th>0</th>\n",
              "      <td>1.0</td>\n",
              "      <td>https://insights.blackcoffer.com/how-is-login-...</td>\n",
              "    </tr>\n",
              "    <tr>\n",
              "      <th>1</th>\n",
              "      <td>2.0</td>\n",
              "      <td>https://insights.blackcoffer.com/how-does-ai-h...</td>\n",
              "    </tr>\n",
              "    <tr>\n",
              "      <th>2</th>\n",
              "      <td>3.0</td>\n",
              "      <td>https://insights.blackcoffer.com/ai-and-its-im...</td>\n",
              "    </tr>\n",
              "    <tr>\n",
              "      <th>3</th>\n",
              "      <td>4.0</td>\n",
              "      <td>https://insights.blackcoffer.com/how-do-deep-l...</td>\n",
              "    </tr>\n",
              "    <tr>\n",
              "      <th>4</th>\n",
              "      <td>5.0</td>\n",
              "      <td>https://insights.blackcoffer.com/how-artificia...</td>\n",
              "    </tr>\n",
              "  </tbody>\n",
              "</table>\n",
              "</div>\n",
              "      <button class=\"colab-df-convert\" onclick=\"convertToInteractive('df-1270e846-00e6-4838-92e7-80b6317538d8')\"\n",
              "              title=\"Convert this dataframe to an interactive table.\"\n",
              "              style=\"display:none;\">\n",
              "        \n",
              "  <svg xmlns=\"http://www.w3.org/2000/svg\" height=\"24px\"viewBox=\"0 0 24 24\"\n",
              "       width=\"24px\">\n",
              "    <path d=\"M0 0h24v24H0V0z\" fill=\"none\"/>\n",
              "    <path d=\"M18.56 5.44l.94 2.06.94-2.06 2.06-.94-2.06-.94-.94-2.06-.94 2.06-2.06.94zm-11 1L8.5 8.5l.94-2.06 2.06-.94-2.06-.94L8.5 2.5l-.94 2.06-2.06.94zm10 10l.94 2.06.94-2.06 2.06-.94-2.06-.94-.94-2.06-.94 2.06-2.06.94z\"/><path d=\"M17.41 7.96l-1.37-1.37c-.4-.4-.92-.59-1.43-.59-.52 0-1.04.2-1.43.59L10.3 9.45l-7.72 7.72c-.78.78-.78 2.05 0 2.83L4 21.41c.39.39.9.59 1.41.59.51 0 1.02-.2 1.41-.59l7.78-7.78 2.81-2.81c.8-.78.8-2.07 0-2.86zM5.41 20L4 18.59l7.72-7.72 1.47 1.35L5.41 20z\"/>\n",
              "  </svg>\n",
              "      </button>\n",
              "      \n",
              "  <style>\n",
              "    .colab-df-container {\n",
              "      display:flex;\n",
              "      flex-wrap:wrap;\n",
              "      gap: 12px;\n",
              "    }\n",
              "\n",
              "    .colab-df-convert {\n",
              "      background-color: #E8F0FE;\n",
              "      border: none;\n",
              "      border-radius: 50%;\n",
              "      cursor: pointer;\n",
              "      display: none;\n",
              "      fill: #1967D2;\n",
              "      height: 32px;\n",
              "      padding: 0 0 0 0;\n",
              "      width: 32px;\n",
              "    }\n",
              "\n",
              "    .colab-df-convert:hover {\n",
              "      background-color: #E2EBFA;\n",
              "      box-shadow: 0px 1px 2px rgba(60, 64, 67, 0.3), 0px 1px 3px 1px rgba(60, 64, 67, 0.15);\n",
              "      fill: #174EA6;\n",
              "    }\n",
              "\n",
              "    [theme=dark] .colab-df-convert {\n",
              "      background-color: #3B4455;\n",
              "      fill: #D2E3FC;\n",
              "    }\n",
              "\n",
              "    [theme=dark] .colab-df-convert:hover {\n",
              "      background-color: #434B5C;\n",
              "      box-shadow: 0px 1px 3px 1px rgba(0, 0, 0, 0.15);\n",
              "      filter: drop-shadow(0px 1px 2px rgba(0, 0, 0, 0.3));\n",
              "      fill: #FFFFFF;\n",
              "    }\n",
              "  </style>\n",
              "\n",
              "      <script>\n",
              "        const buttonEl =\n",
              "          document.querySelector('#df-1270e846-00e6-4838-92e7-80b6317538d8 button.colab-df-convert');\n",
              "        buttonEl.style.display =\n",
              "          google.colab.kernel.accessAllowed ? 'block' : 'none';\n",
              "\n",
              "        async function convertToInteractive(key) {\n",
              "          const element = document.querySelector('#df-1270e846-00e6-4838-92e7-80b6317538d8');\n",
              "          const dataTable =\n",
              "            await google.colab.kernel.invokeFunction('convertToInteractive',\n",
              "                                                     [key], {});\n",
              "          if (!dataTable) return;\n",
              "\n",
              "          const docLinkHtml = 'Like what you see? Visit the ' +\n",
              "            '<a target=\"_blank\" href=https://colab.research.google.com/notebooks/data_table.ipynb>data table notebook</a>'\n",
              "            + ' to learn more about interactive tables.';\n",
              "          element.innerHTML = '';\n",
              "          dataTable['output_type'] = 'display_data';\n",
              "          await google.colab.output.renderOutput(dataTable, element);\n",
              "          const docLink = document.createElement('div');\n",
              "          docLink.innerHTML = docLinkHtml;\n",
              "          element.appendChild(docLink);\n",
              "        }\n",
              "      </script>\n",
              "    </div>\n",
              "  </div>\n",
              "  "
            ]
          },
          "metadata": {},
          "execution_count": 9
        }
      ]
    },
    {
      "cell_type": "code",
      "source": [
        "df.tail()"
      ],
      "metadata": {
        "colab": {
          "base_uri": "https://localhost:8080/",
          "height": 206
        },
        "id": "oMEBKxeJDypB",
        "outputId": "0f5038ab-06ee-4901-a223-b34263f9fd26"
      },
      "execution_count": 10,
      "outputs": [
        {
          "output_type": "execute_result",
          "data": {
            "text/plain": [
              "     URL_ID                                                URL\n",
              "165   167.0  https://insights.blackcoffer.com/role-big-data...\n",
              "166   168.0  https://insights.blackcoffer.com/sales-forecas...\n",
              "167   169.0  https://insights.blackcoffer.com/detect-data-e...\n",
              "168   170.0  https://insights.blackcoffer.com/data-exfiltra...\n",
              "169   171.0  https://insights.blackcoffer.com/impacts-of-co..."
            ],
            "text/html": [
              "\n",
              "  <div id=\"df-570ff82f-cf12-4643-b058-c50e0ce388ef\">\n",
              "    <div class=\"colab-df-container\">\n",
              "      <div>\n",
              "<style scoped>\n",
              "    .dataframe tbody tr th:only-of-type {\n",
              "        vertical-align: middle;\n",
              "    }\n",
              "\n",
              "    .dataframe tbody tr th {\n",
              "        vertical-align: top;\n",
              "    }\n",
              "\n",
              "    .dataframe thead th {\n",
              "        text-align: right;\n",
              "    }\n",
              "</style>\n",
              "<table border=\"1\" class=\"dataframe\">\n",
              "  <thead>\n",
              "    <tr style=\"text-align: right;\">\n",
              "      <th></th>\n",
              "      <th>URL_ID</th>\n",
              "      <th>URL</th>\n",
              "    </tr>\n",
              "  </thead>\n",
              "  <tbody>\n",
              "    <tr>\n",
              "      <th>165</th>\n",
              "      <td>167.0</td>\n",
              "      <td>https://insights.blackcoffer.com/role-big-data...</td>\n",
              "    </tr>\n",
              "    <tr>\n",
              "      <th>166</th>\n",
              "      <td>168.0</td>\n",
              "      <td>https://insights.blackcoffer.com/sales-forecas...</td>\n",
              "    </tr>\n",
              "    <tr>\n",
              "      <th>167</th>\n",
              "      <td>169.0</td>\n",
              "      <td>https://insights.blackcoffer.com/detect-data-e...</td>\n",
              "    </tr>\n",
              "    <tr>\n",
              "      <th>168</th>\n",
              "      <td>170.0</td>\n",
              "      <td>https://insights.blackcoffer.com/data-exfiltra...</td>\n",
              "    </tr>\n",
              "    <tr>\n",
              "      <th>169</th>\n",
              "      <td>171.0</td>\n",
              "      <td>https://insights.blackcoffer.com/impacts-of-co...</td>\n",
              "    </tr>\n",
              "  </tbody>\n",
              "</table>\n",
              "</div>\n",
              "      <button class=\"colab-df-convert\" onclick=\"convertToInteractive('df-570ff82f-cf12-4643-b058-c50e0ce388ef')\"\n",
              "              title=\"Convert this dataframe to an interactive table.\"\n",
              "              style=\"display:none;\">\n",
              "        \n",
              "  <svg xmlns=\"http://www.w3.org/2000/svg\" height=\"24px\"viewBox=\"0 0 24 24\"\n",
              "       width=\"24px\">\n",
              "    <path d=\"M0 0h24v24H0V0z\" fill=\"none\"/>\n",
              "    <path d=\"M18.56 5.44l.94 2.06.94-2.06 2.06-.94-2.06-.94-.94-2.06-.94 2.06-2.06.94zm-11 1L8.5 8.5l.94-2.06 2.06-.94-2.06-.94L8.5 2.5l-.94 2.06-2.06.94zm10 10l.94 2.06.94-2.06 2.06-.94-2.06-.94-.94-2.06-.94 2.06-2.06.94z\"/><path d=\"M17.41 7.96l-1.37-1.37c-.4-.4-.92-.59-1.43-.59-.52 0-1.04.2-1.43.59L10.3 9.45l-7.72 7.72c-.78.78-.78 2.05 0 2.83L4 21.41c.39.39.9.59 1.41.59.51 0 1.02-.2 1.41-.59l7.78-7.78 2.81-2.81c.8-.78.8-2.07 0-2.86zM5.41 20L4 18.59l7.72-7.72 1.47 1.35L5.41 20z\"/>\n",
              "  </svg>\n",
              "      </button>\n",
              "      \n",
              "  <style>\n",
              "    .colab-df-container {\n",
              "      display:flex;\n",
              "      flex-wrap:wrap;\n",
              "      gap: 12px;\n",
              "    }\n",
              "\n",
              "    .colab-df-convert {\n",
              "      background-color: #E8F0FE;\n",
              "      border: none;\n",
              "      border-radius: 50%;\n",
              "      cursor: pointer;\n",
              "      display: none;\n",
              "      fill: #1967D2;\n",
              "      height: 32px;\n",
              "      padding: 0 0 0 0;\n",
              "      width: 32px;\n",
              "    }\n",
              "\n",
              "    .colab-df-convert:hover {\n",
              "      background-color: #E2EBFA;\n",
              "      box-shadow: 0px 1px 2px rgba(60, 64, 67, 0.3), 0px 1px 3px 1px rgba(60, 64, 67, 0.15);\n",
              "      fill: #174EA6;\n",
              "    }\n",
              "\n",
              "    [theme=dark] .colab-df-convert {\n",
              "      background-color: #3B4455;\n",
              "      fill: #D2E3FC;\n",
              "    }\n",
              "\n",
              "    [theme=dark] .colab-df-convert:hover {\n",
              "      background-color: #434B5C;\n",
              "      box-shadow: 0px 1px 3px 1px rgba(0, 0, 0, 0.15);\n",
              "      filter: drop-shadow(0px 1px 2px rgba(0, 0, 0, 0.3));\n",
              "      fill: #FFFFFF;\n",
              "    }\n",
              "  </style>\n",
              "\n",
              "      <script>\n",
              "        const buttonEl =\n",
              "          document.querySelector('#df-570ff82f-cf12-4643-b058-c50e0ce388ef button.colab-df-convert');\n",
              "        buttonEl.style.display =\n",
              "          google.colab.kernel.accessAllowed ? 'block' : 'none';\n",
              "\n",
              "        async function convertToInteractive(key) {\n",
              "          const element = document.querySelector('#df-570ff82f-cf12-4643-b058-c50e0ce388ef');\n",
              "          const dataTable =\n",
              "            await google.colab.kernel.invokeFunction('convertToInteractive',\n",
              "                                                     [key], {});\n",
              "          if (!dataTable) return;\n",
              "\n",
              "          const docLinkHtml = 'Like what you see? Visit the ' +\n",
              "            '<a target=\"_blank\" href=https://colab.research.google.com/notebooks/data_table.ipynb>data table notebook</a>'\n",
              "            + ' to learn more about interactive tables.';\n",
              "          element.innerHTML = '';\n",
              "          dataTable['output_type'] = 'display_data';\n",
              "          await google.colab.output.renderOutput(dataTable, element);\n",
              "          const docLink = document.createElement('div');\n",
              "          docLink.innerHTML = docLinkHtml;\n",
              "          element.appendChild(docLink);\n",
              "        }\n",
              "      </script>\n",
              "    </div>\n",
              "  </div>\n",
              "  "
            ]
          },
          "metadata": {},
          "execution_count": 10
        }
      ]
    },
    {
      "cell_type": "code",
      "source": [
        "import re"
      ],
      "metadata": {
        "id": "C-Dch5ryD0m8"
      },
      "execution_count": 11,
      "outputs": []
    },
    {
      "cell_type": "code",
      "source": [
        ""
      ],
      "metadata": {
        "id": "90siGY_2EHEr"
      },
      "execution_count": 11,
      "outputs": []
    }
  ]
}
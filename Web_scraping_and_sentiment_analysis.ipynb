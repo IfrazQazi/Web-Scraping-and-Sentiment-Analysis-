{
  "nbformat": 4,
  "nbformat_minor": 0,
  "metadata": {
    "colab": {
      "name": "Web scraping and sentiment analysis.ipynb",
      "provenance": [],
      "mount_file_id": "1OaXCjxXTCaL4iOjqhOAmK2_7alTWMqV8",
      "authorship_tag": "ABX9TyM2xe8tZr5FEy43Z1DZru4n",
      "include_colab_link": true
    },
    "kernelspec": {
      "name": "python3",
      "display_name": "Python 3"
    },
    "language_info": {
      "name": "python"
    },
    "accelerator": "GPU"
  },
  "cells": [
    {
      "cell_type": "markdown",
      "metadata": {
        "id": "view-in-github",
        "colab_type": "text"
      },
      "source": [
        "<a href=\"https://colab.research.google.com/github/IfrazQazi/Web-Scraping-and-Sentiment-Analysis-/blob/main/Web_scraping_and_sentiment_analysis.ipynb\" target=\"_parent\"><img src=\"https://colab.research.google.com/assets/colab-badge.svg\" alt=\"Open In Colab\"/></a>"
      ]
    },
    {
      "cell_type": "markdown",
      "source": [
        "##**Objective**\n",
        "The objective of this assignment is to extract textual data articles from the given URL and perform text analysis to compute variables that are explained below. \n",
        "\n",
        "##**Data Extraction**\n",
        "\n",
        "\n",
        "For each of the articles, given in the input.xlsx file, extract the article text and save the extracted article in a text file with URL_ID as its file name.\n",
        "While extracting text, please make sure your program extracts only the article title and the article text. It should not extract the website header, footer, or anything other than the article text. \n",
        "\n",
        "##**Data Analysis**\n",
        "For each of the extracted texts from the article, perform textual analysis and compute variables.\n",
        "##**Variables**\n",
        "\n",
        "* POSITIVE SCORE\n",
        "* NEGATIVE SCORE\n",
        "* POLARITY SCORE\n",
        "* SUBJECTIVITY SCORE\n",
        "* AVG SENTENCE LENGTH\n",
        "* PERCENTAGE OF COMPLEX WORDS\n",
        "* FOG INDEX\n",
        "* AVG NUMBER OF WORDS PER SENTENCE\n",
        "* COMPLEX WORD COUNT\n",
        "* WORD COUNT\n",
        "* SYLLABLE PER WORD\n",
        "* PERSONAL PRONOUNS\n",
        "* AVG WORD LENGTH\n",
        "\n"
      ],
      "metadata": {
        "id": "LSpjbEwXmW1V"
      }
    },
    {
      "cell_type": "markdown",
      "source": [
        "## Lets understand variables\n"
      ],
      "metadata": {
        "id": "MVduBcQbo-QC"
      }
    },
    {
      "cell_type": "markdown",
      "source": [
        "##**Sentimental Analysis**\n",
        "## Sentimental analysis is the process of determining whether a piece of writing is positive, negative or neutral.\n",
        "* **POSITIVE SCORE**\n",
        "* **NEGATIVE SCORE**\n",
        "\n",
        "##**POLARITY SCORE**\n",
        "## Polarity lies between [-1,1], -1 defines a negative sentiment and 1 defines a positive sentiment.\n",
        "\n",
        "##**SUBJECTIVITY SCORE**\n",
        "## Subjectivity quantifies the amount of personal opinion and factual information contained in the text.\n",
        "## The higher subjectivity means that the text contains personal opinion rather than factual information."
      ],
      "metadata": {
        "id": "fvnw46HJprL8"
      }
    },
    {
      "cell_type": "markdown",
      "source": [
        "##**Analysis of Readability**\n",
        "##Analysis of Readability is calculated using the Gunning Fox index formula described below.\n",
        "* **Average Sentence Length** = the number of words / the number of sentences\n",
        "\n",
        "* **Percentage of Complex words** = the number of complex words / the number of words\n",
        "\n",
        "* **Fog Index** = 0.4 * (Average Sentence Length + Percentage of Complex words)\n",
        "\n",
        "*  **Fog Index :**\n",
        "\n",
        "  The fog index is commonly used to confirm that text can be read easily by the intended audience. Texts for a wide audience generally need a fog index less than 12. Texts requiring near-universal understanding generally need an index less than 8."
      ],
      "metadata": {
        "id": "2GnZ71L_toU2"
      }
    },
    {
      "cell_type": "markdown",
      "source": [
        "## **Average Number of Words Per Sentence**\n",
        "##The formula for calculating is:\n",
        "**Average Number of Words Per Sentence** = the total number of words / the total number of sentences\n",
        "\n",
        "## **Complex Word Count**\n",
        " ## Complex words are words in the text that contain more than two syllables.\n",
        "\n",
        "## **Word Count**\n",
        "## We count the total cleaned words present in the text by \n",
        "1. removing the stop words (using stopwords class of nltk package).\n",
        "2. removing any punctuations like ? ! , . from the word before counting.\n",
        "\n"
      ],
      "metadata": {
        "id": "uxIdjEqLvDfd"
      }
    },
    {
      "cell_type": "markdown",
      "source": [
        "## **Syllable Count Per Word :**\n",
        "## We count the number of Syllables in each word of the text by counting the vowels present in each word. We also handle some exceptions like words ending with \"es\",\"ed\" by not counting them as a syllable.\n",
        "\n",
        "## **Personal Pronouns**\n",
        "## To calculate Personal Pronouns mentioned in the text, we use regex to find the counts of the words\n",
        "\n",
        "* “I,” “we,” “my,” “ours,” and “us”. Special care is taken so that the country name US is not included in the list.\n",
        "\n",
        "##**Average Word Length:**\n",
        "## Average Word Length is calculated by the formula:\n",
        "* Sum of the total number of characters in each word/Total number of words\n"
      ],
      "metadata": {
        "id": "NoKxczKUwQde"
      }
    },
    {
      "cell_type": "markdown",
      "source": [
        "## So first lets import libraries"
      ],
      "metadata": {
        "id": "E99Khv9QxtQO"
      }
    },
    {
      "cell_type": "code",
      "source": [
        "## importing libraries\n",
        "import pandas as pd\n",
        "import requests\n",
        "import numpy as np\n",
        "from bs4 import BeautifulSoup "
      ],
      "metadata": {
        "id": "lmcGCBcspK-V"
      },
      "execution_count": 1,
      "outputs": []
    },
    {
      "cell_type": "code",
      "source": [
        "import nltk                 ## importing nltk library\n",
        "nltk.download('stopwords')"
      ],
      "metadata": {
        "id": "wLAV0aRAx1sr",
        "colab": {
          "base_uri": "https://localhost:8080/"
        },
        "outputId": "f77af089-5fc1-4d43-a825-4557a5bcadd7"
      },
      "execution_count": 2,
      "outputs": [
        {
          "output_type": "stream",
          "name": "stdout",
          "text": [
            "[nltk_data] Downloading package stopwords to /root/nltk_data...\n",
            "[nltk_data]   Unzipping corpora/stopwords.zip.\n"
          ]
        },
        {
          "output_type": "execute_result",
          "data": {
            "text/plain": [
              "True"
            ]
          },
          "metadata": {},
          "execution_count": 2
        }
      ]
    },
    {
      "cell_type": "code",
      "source": [
        "from nltk.corpus import stopwords"
      ],
      "metadata": {
        "id": "NLOQjGfH9WBv"
      },
      "execution_count": 3,
      "outputs": []
    },
    {
      "cell_type": "markdown",
      "source": [
        "## Creating some function which we will use later"
      ],
      "metadata": {
        "id": "4H0lYUKS_ZWw"
      }
    },
    {
      "cell_type": "code",
      "source": [
        "# extracting the stopwords from nltk library\n",
        "sw = stopwords.words('english')"
      ],
      "metadata": {
        "id": "W_19jiY_9cNz"
      },
      "execution_count": 4,
      "outputs": []
    },
    {
      "cell_type": "code",
      "source": [
        "def stopwords(text):\n",
        "    '''a function for removing the stopword'''\n",
        "    # removing the stop words and lowercasing the selected words\n",
        "    text = [word.lower() for word in text.split() if word.lower() not in sw]\n",
        "    # joining the list of words with space separator\n",
        "    return \" \".join(text)"
      ],
      "metadata": {
        "id": "QeBvROgU9fSH"
      },
      "execution_count": 5,
      "outputs": []
    },
    {
      "cell_type": "code",
      "source": [
        "\n",
        "nltk.download('punkt')\n",
        "from nltk.tokenize import sent_tokenize\n",
        "\n",
        "def number_of_sentences(text): ## number of sentences in paragraph\n",
        "    number_of_sentence = sent_tokenize(text)\n",
        "    count_of_sentences = len(number_of_sentence)\n",
        "    return count_of_sentences\n",
        "# print(number_of_sentence)"
      ],
      "metadata": {
        "colab": {
          "base_uri": "https://localhost:8080/"
        },
        "id": "plSfYHYx9q2z",
        "outputId": "8da8209c-bfb1-4a22-a69c-6763d654364c"
      },
      "execution_count": 6,
      "outputs": [
        {
          "output_type": "stream",
          "name": "stdout",
          "text": [
            "[nltk_data] Downloading package punkt to /root/nltk_data...\n",
            "[nltk_data]   Unzipping tokenizers/punkt.zip.\n"
          ]
        }
      ]
    },
    {
      "cell_type": "code",
      "source": [
        "def remove_punctuation(text):\n",
        "    '''a function for removing punctuation'''\n",
        "    import string\n",
        "    # replacing the punctuations with no space, \n",
        "    # which in effect deletes the punctuation marks \n",
        "    translator = str.maketrans('', '', string.punctuation)\n",
        "    # return the text stripped of punctuation marks\n",
        "    return text.translate(translator)"
      ],
      "metadata": {
        "id": "gqwywq8G9xlP"
      },
      "execution_count": 7,
      "outputs": []
    },
    {
      "cell_type": "code",
      "source": [
        "df= pd.read_excel('/content/drive/MyDrive/Web_scraping/Input.xlsx') ## read excel file"
      ],
      "metadata": {
        "id": "CuYKs50N96bX"
      },
      "execution_count": 8,
      "outputs": []
    },
    {
      "cell_type": "code",
      "source": [
        "df.head()"
      ],
      "metadata": {
        "colab": {
          "base_uri": "https://localhost:8080/",
          "height": 206
        },
        "id": "myKEMP1pDXyi",
        "outputId": "d805351e-71f7-43a2-b7f1-91fd283d26da"
      },
      "execution_count": 9,
      "outputs": [
        {
          "output_type": "execute_result",
          "data": {
            "text/plain": [
              "   URL_ID                                                URL\n",
              "0     1.0  https://insights.blackcoffer.com/how-is-login-...\n",
              "1     2.0  https://insights.blackcoffer.com/how-does-ai-h...\n",
              "2     3.0  https://insights.blackcoffer.com/ai-and-its-im...\n",
              "3     4.0  https://insights.blackcoffer.com/how-do-deep-l...\n",
              "4     5.0  https://insights.blackcoffer.com/how-artificia..."
            ],
            "text/html": [
              "\n",
              "  <div id=\"df-083409cc-955d-4966-89fc-db6db055a923\">\n",
              "    <div class=\"colab-df-container\">\n",
              "      <div>\n",
              "<style scoped>\n",
              "    .dataframe tbody tr th:only-of-type {\n",
              "        vertical-align: middle;\n",
              "    }\n",
              "\n",
              "    .dataframe tbody tr th {\n",
              "        vertical-align: top;\n",
              "    }\n",
              "\n",
              "    .dataframe thead th {\n",
              "        text-align: right;\n",
              "    }\n",
              "</style>\n",
              "<table border=\"1\" class=\"dataframe\">\n",
              "  <thead>\n",
              "    <tr style=\"text-align: right;\">\n",
              "      <th></th>\n",
              "      <th>URL_ID</th>\n",
              "      <th>URL</th>\n",
              "    </tr>\n",
              "  </thead>\n",
              "  <tbody>\n",
              "    <tr>\n",
              "      <th>0</th>\n",
              "      <td>1.0</td>\n",
              "      <td>https://insights.blackcoffer.com/how-is-login-...</td>\n",
              "    </tr>\n",
              "    <tr>\n",
              "      <th>1</th>\n",
              "      <td>2.0</td>\n",
              "      <td>https://insights.blackcoffer.com/how-does-ai-h...</td>\n",
              "    </tr>\n",
              "    <tr>\n",
              "      <th>2</th>\n",
              "      <td>3.0</td>\n",
              "      <td>https://insights.blackcoffer.com/ai-and-its-im...</td>\n",
              "    </tr>\n",
              "    <tr>\n",
              "      <th>3</th>\n",
              "      <td>4.0</td>\n",
              "      <td>https://insights.blackcoffer.com/how-do-deep-l...</td>\n",
              "    </tr>\n",
              "    <tr>\n",
              "      <th>4</th>\n",
              "      <td>5.0</td>\n",
              "      <td>https://insights.blackcoffer.com/how-artificia...</td>\n",
              "    </tr>\n",
              "  </tbody>\n",
              "</table>\n",
              "</div>\n",
              "      <button class=\"colab-df-convert\" onclick=\"convertToInteractive('df-083409cc-955d-4966-89fc-db6db055a923')\"\n",
              "              title=\"Convert this dataframe to an interactive table.\"\n",
              "              style=\"display:none;\">\n",
              "        \n",
              "  <svg xmlns=\"http://www.w3.org/2000/svg\" height=\"24px\"viewBox=\"0 0 24 24\"\n",
              "       width=\"24px\">\n",
              "    <path d=\"M0 0h24v24H0V0z\" fill=\"none\"/>\n",
              "    <path d=\"M18.56 5.44l.94 2.06.94-2.06 2.06-.94-2.06-.94-.94-2.06-.94 2.06-2.06.94zm-11 1L8.5 8.5l.94-2.06 2.06-.94-2.06-.94L8.5 2.5l-.94 2.06-2.06.94zm10 10l.94 2.06.94-2.06 2.06-.94-2.06-.94-.94-2.06-.94 2.06-2.06.94z\"/><path d=\"M17.41 7.96l-1.37-1.37c-.4-.4-.92-.59-1.43-.59-.52 0-1.04.2-1.43.59L10.3 9.45l-7.72 7.72c-.78.78-.78 2.05 0 2.83L4 21.41c.39.39.9.59 1.41.59.51 0 1.02-.2 1.41-.59l7.78-7.78 2.81-2.81c.8-.78.8-2.07 0-2.86zM5.41 20L4 18.59l7.72-7.72 1.47 1.35L5.41 20z\"/>\n",
              "  </svg>\n",
              "      </button>\n",
              "      \n",
              "  <style>\n",
              "    .colab-df-container {\n",
              "      display:flex;\n",
              "      flex-wrap:wrap;\n",
              "      gap: 12px;\n",
              "    }\n",
              "\n",
              "    .colab-df-convert {\n",
              "      background-color: #E8F0FE;\n",
              "      border: none;\n",
              "      border-radius: 50%;\n",
              "      cursor: pointer;\n",
              "      display: none;\n",
              "      fill: #1967D2;\n",
              "      height: 32px;\n",
              "      padding: 0 0 0 0;\n",
              "      width: 32px;\n",
              "    }\n",
              "\n",
              "    .colab-df-convert:hover {\n",
              "      background-color: #E2EBFA;\n",
              "      box-shadow: 0px 1px 2px rgba(60, 64, 67, 0.3), 0px 1px 3px 1px rgba(60, 64, 67, 0.15);\n",
              "      fill: #174EA6;\n",
              "    }\n",
              "\n",
              "    [theme=dark] .colab-df-convert {\n",
              "      background-color: #3B4455;\n",
              "      fill: #D2E3FC;\n",
              "    }\n",
              "\n",
              "    [theme=dark] .colab-df-convert:hover {\n",
              "      background-color: #434B5C;\n",
              "      box-shadow: 0px 1px 3px 1px rgba(0, 0, 0, 0.15);\n",
              "      filter: drop-shadow(0px 1px 2px rgba(0, 0, 0, 0.3));\n",
              "      fill: #FFFFFF;\n",
              "    }\n",
              "  </style>\n",
              "\n",
              "      <script>\n",
              "        const buttonEl =\n",
              "          document.querySelector('#df-083409cc-955d-4966-89fc-db6db055a923 button.colab-df-convert');\n",
              "        buttonEl.style.display =\n",
              "          google.colab.kernel.accessAllowed ? 'block' : 'none';\n",
              "\n",
              "        async function convertToInteractive(key) {\n",
              "          const element = document.querySelector('#df-083409cc-955d-4966-89fc-db6db055a923');\n",
              "          const dataTable =\n",
              "            await google.colab.kernel.invokeFunction('convertToInteractive',\n",
              "                                                     [key], {});\n",
              "          if (!dataTable) return;\n",
              "\n",
              "          const docLinkHtml = 'Like what you see? Visit the ' +\n",
              "            '<a target=\"_blank\" href=https://colab.research.google.com/notebooks/data_table.ipynb>data table notebook</a>'\n",
              "            + ' to learn more about interactive tables.';\n",
              "          element.innerHTML = '';\n",
              "          dataTable['output_type'] = 'display_data';\n",
              "          await google.colab.output.renderOutput(dataTable, element);\n",
              "          const docLink = document.createElement('div');\n",
              "          docLink.innerHTML = docLinkHtml;\n",
              "          element.appendChild(docLink);\n",
              "        }\n",
              "      </script>\n",
              "    </div>\n",
              "  </div>\n",
              "  "
            ]
          },
          "metadata": {},
          "execution_count": 9
        }
      ]
    },
    {
      "cell_type": "code",
      "source": [
        "df.tail()"
      ],
      "metadata": {
        "colab": {
          "base_uri": "https://localhost:8080/",
          "height": 206
        },
        "id": "oMEBKxeJDypB",
        "outputId": "22bd3796-60b2-45b5-a832-7ab0c281f8f2"
      },
      "execution_count": 10,
      "outputs": [
        {
          "output_type": "execute_result",
          "data": {
            "text/plain": [
              "     URL_ID                                                URL\n",
              "165   167.0  https://insights.blackcoffer.com/role-big-data...\n",
              "166   168.0  https://insights.blackcoffer.com/sales-forecas...\n",
              "167   169.0  https://insights.blackcoffer.com/detect-data-e...\n",
              "168   170.0  https://insights.blackcoffer.com/data-exfiltra...\n",
              "169   171.0  https://insights.blackcoffer.com/impacts-of-co..."
            ],
            "text/html": [
              "\n",
              "  <div id=\"df-d5a0c624-7183-4833-a9f1-1bfd7eca293f\">\n",
              "    <div class=\"colab-df-container\">\n",
              "      <div>\n",
              "<style scoped>\n",
              "    .dataframe tbody tr th:only-of-type {\n",
              "        vertical-align: middle;\n",
              "    }\n",
              "\n",
              "    .dataframe tbody tr th {\n",
              "        vertical-align: top;\n",
              "    }\n",
              "\n",
              "    .dataframe thead th {\n",
              "        text-align: right;\n",
              "    }\n",
              "</style>\n",
              "<table border=\"1\" class=\"dataframe\">\n",
              "  <thead>\n",
              "    <tr style=\"text-align: right;\">\n",
              "      <th></th>\n",
              "      <th>URL_ID</th>\n",
              "      <th>URL</th>\n",
              "    </tr>\n",
              "  </thead>\n",
              "  <tbody>\n",
              "    <tr>\n",
              "      <th>165</th>\n",
              "      <td>167.0</td>\n",
              "      <td>https://insights.blackcoffer.com/role-big-data...</td>\n",
              "    </tr>\n",
              "    <tr>\n",
              "      <th>166</th>\n",
              "      <td>168.0</td>\n",
              "      <td>https://insights.blackcoffer.com/sales-forecas...</td>\n",
              "    </tr>\n",
              "    <tr>\n",
              "      <th>167</th>\n",
              "      <td>169.0</td>\n",
              "      <td>https://insights.blackcoffer.com/detect-data-e...</td>\n",
              "    </tr>\n",
              "    <tr>\n",
              "      <th>168</th>\n",
              "      <td>170.0</td>\n",
              "      <td>https://insights.blackcoffer.com/data-exfiltra...</td>\n",
              "    </tr>\n",
              "    <tr>\n",
              "      <th>169</th>\n",
              "      <td>171.0</td>\n",
              "      <td>https://insights.blackcoffer.com/impacts-of-co...</td>\n",
              "    </tr>\n",
              "  </tbody>\n",
              "</table>\n",
              "</div>\n",
              "      <button class=\"colab-df-convert\" onclick=\"convertToInteractive('df-d5a0c624-7183-4833-a9f1-1bfd7eca293f')\"\n",
              "              title=\"Convert this dataframe to an interactive table.\"\n",
              "              style=\"display:none;\">\n",
              "        \n",
              "  <svg xmlns=\"http://www.w3.org/2000/svg\" height=\"24px\"viewBox=\"0 0 24 24\"\n",
              "       width=\"24px\">\n",
              "    <path d=\"M0 0h24v24H0V0z\" fill=\"none\"/>\n",
              "    <path d=\"M18.56 5.44l.94 2.06.94-2.06 2.06-.94-2.06-.94-.94-2.06-.94 2.06-2.06.94zm-11 1L8.5 8.5l.94-2.06 2.06-.94-2.06-.94L8.5 2.5l-.94 2.06-2.06.94zm10 10l.94 2.06.94-2.06 2.06-.94-2.06-.94-.94-2.06-.94 2.06-2.06.94z\"/><path d=\"M17.41 7.96l-1.37-1.37c-.4-.4-.92-.59-1.43-.59-.52 0-1.04.2-1.43.59L10.3 9.45l-7.72 7.72c-.78.78-.78 2.05 0 2.83L4 21.41c.39.39.9.59 1.41.59.51 0 1.02-.2 1.41-.59l7.78-7.78 2.81-2.81c.8-.78.8-2.07 0-2.86zM5.41 20L4 18.59l7.72-7.72 1.47 1.35L5.41 20z\"/>\n",
              "  </svg>\n",
              "      </button>\n",
              "      \n",
              "  <style>\n",
              "    .colab-df-container {\n",
              "      display:flex;\n",
              "      flex-wrap:wrap;\n",
              "      gap: 12px;\n",
              "    }\n",
              "\n",
              "    .colab-df-convert {\n",
              "      background-color: #E8F0FE;\n",
              "      border: none;\n",
              "      border-radius: 50%;\n",
              "      cursor: pointer;\n",
              "      display: none;\n",
              "      fill: #1967D2;\n",
              "      height: 32px;\n",
              "      padding: 0 0 0 0;\n",
              "      width: 32px;\n",
              "    }\n",
              "\n",
              "    .colab-df-convert:hover {\n",
              "      background-color: #E2EBFA;\n",
              "      box-shadow: 0px 1px 2px rgba(60, 64, 67, 0.3), 0px 1px 3px 1px rgba(60, 64, 67, 0.15);\n",
              "      fill: #174EA6;\n",
              "    }\n",
              "\n",
              "    [theme=dark] .colab-df-convert {\n",
              "      background-color: #3B4455;\n",
              "      fill: #D2E3FC;\n",
              "    }\n",
              "\n",
              "    [theme=dark] .colab-df-convert:hover {\n",
              "      background-color: #434B5C;\n",
              "      box-shadow: 0px 1px 3px 1px rgba(0, 0, 0, 0.15);\n",
              "      filter: drop-shadow(0px 1px 2px rgba(0, 0, 0, 0.3));\n",
              "      fill: #FFFFFF;\n",
              "    }\n",
              "  </style>\n",
              "\n",
              "      <script>\n",
              "        const buttonEl =\n",
              "          document.querySelector('#df-d5a0c624-7183-4833-a9f1-1bfd7eca293f button.colab-df-convert');\n",
              "        buttonEl.style.display =\n",
              "          google.colab.kernel.accessAllowed ? 'block' : 'none';\n",
              "\n",
              "        async function convertToInteractive(key) {\n",
              "          const element = document.querySelector('#df-d5a0c624-7183-4833-a9f1-1bfd7eca293f');\n",
              "          const dataTable =\n",
              "            await google.colab.kernel.invokeFunction('convertToInteractive',\n",
              "                                                     [key], {});\n",
              "          if (!dataTable) return;\n",
              "\n",
              "          const docLinkHtml = 'Like what you see? Visit the ' +\n",
              "            '<a target=\"_blank\" href=https://colab.research.google.com/notebooks/data_table.ipynb>data table notebook</a>'\n",
              "            + ' to learn more about interactive tables.';\n",
              "          element.innerHTML = '';\n",
              "          dataTable['output_type'] = 'display_data';\n",
              "          await google.colab.output.renderOutput(dataTable, element);\n",
              "          const docLink = document.createElement('div');\n",
              "          docLink.innerHTML = docLinkHtml;\n",
              "          element.appendChild(docLink);\n",
              "        }\n",
              "      </script>\n",
              "    </div>\n",
              "  </div>\n",
              "  "
            ]
          },
          "metadata": {},
          "execution_count": 10
        }
      ]
    },
    {
      "cell_type": "code",
      "source": [
        "import re"
      ],
      "metadata": {
        "id": "C-Dch5ryD0m8"
      },
      "execution_count": 11,
      "outputs": []
    },
    {
      "cell_type": "code",
      "source": [
        "j=0\n",
        "PERSONAL_PRONOUNS=[]\n",
        "lengths=[]\n",
        "word_count=[]\n",
        "text=[]\n",
        "for  i in df.URL:\n",
        "    j+=1\n",
        "    globals()['r%s' % j] = requests.get(i, headers={\"User-Agent\": \"XY\"}).text \n",
        "    \n",
        "    globals()['soup%s' % j]= BeautifulSoup(globals()['r%s' % j],'lxml')\n",
        "    \n",
        "    ## extracing text of article\n",
        "    globals()['pra%s' % j] = globals()['soup%s' % j].find('div', class_ = 'td-post-content').text ## extracing text of article\n",
        "    \n",
        "    ### calculating PERSONAL_PRONOUNS\n",
        "    pronounRegex = re.compile(r'\\bI\\b|\\bwe\\b|\\bWe\\b|\\bmy\\b|\\bMy\\b|\\bours\\b|\\bus\\b')\n",
        "    \n",
        "    globals()['pronouns%s' % j] = pronounRegex.findall(globals()['pra%s' % j]) ### calculating PERSONAL_PRONOUNS\n",
        "    \n",
        "    PERSONAL_PRONOUNS.append(len(globals()['pronouns%s' % j]))\n",
        "    \n",
        "    ## removing stop words\n",
        "    globals()['pra%s' % j]  = stopwords(globals()['pra%s' % j]) ## removing stop words\n",
        "    \n",
        "    count_of_sentences=number_of_sentences(globals()['pra%s' % j]) \n",
        "    \n",
        "    lengths.append(count_of_sentences)\n",
        "    \n",
        "    text.append(globals()['pra%s' % j])\n",
        "    \n",
        "    ### removing punctuation\n",
        "    globals()['pra%s' % j]=remove_punctuation(globals()['pra%s' % j])\n",
        "    \n",
        "    words = re.sub(r'[^\\w\\s]', '', globals()['pra%s' % j])\n",
        "    \n",
        "    # using regex (findall())\n",
        "    # to count words in string\n",
        "    res = len(re.findall(r'\\w+', (words)))\n",
        "              \n",
        "    word_count.append(res)\n",
        "    \n"
      ],
      "metadata": {
        "id": "90siGY_2EHEr"
      },
      "execution_count": 12,
      "outputs": []
    },
    {
      "cell_type": "code",
      "source": [
        "df['sentence_count']=lengths"
      ],
      "metadata": {
        "id": "4kpfjRrHOYUK"
      },
      "execution_count": 13,
      "outputs": []
    },
    {
      "cell_type": "code",
      "source": [
        "df['URL_ID'] = df['URL_ID'].apply(lambda x:int(x))"
      ],
      "metadata": {
        "id": "g3L7xUW8OZBr"
      },
      "execution_count": 14,
      "outputs": []
    },
    {
      "cell_type": "markdown",
      "source": [
        "##**Word Count**\n",
        "\n",
        "We count the total cleaned words present in the text by\n",
        "\n",
        "removing the stop words (using stopwords class of nltk package).\n",
        "\n",
        "removing any punctuations like ? ! , . from the word before counting."
      ],
      "metadata": {
        "id": "XdjEAf0QOjGZ"
      }
    },
    {
      "cell_type": "code",
      "source": [
        "df['WORD COUNT'] = word_count"
      ],
      "metadata": {
        "id": "6PyyaJjKOoYM"
      },
      "execution_count": 15,
      "outputs": []
    },
    {
      "cell_type": "markdown",
      "source": [
        "--------------------------------------------------------------------------------------------------------------------------------------------------------------\n",
        "##**Sentimental Analysis**\n",
        "\n",
        "* **POSITIVE SCORE**\n",
        "\n",
        "* **NEGATIVE SCORE**"
      ],
      "metadata": {
        "id": "5h1fqw9uO0jz"
      }
    },
    {
      "cell_type": "code",
      "source": [
        "nltk.download('opinion_lexicon')"
      ],
      "metadata": {
        "colab": {
          "base_uri": "https://localhost:8080/"
        },
        "id": "cr0Re8dkO_t2",
        "outputId": "a1a447af-7a3e-48e9-ee93-17a07819ec75"
      },
      "execution_count": 16,
      "outputs": [
        {
          "output_type": "stream",
          "name": "stdout",
          "text": [
            "[nltk_data] Downloading package opinion_lexicon to /root/nltk_data...\n",
            "[nltk_data]   Unzipping corpora/opinion_lexicon.zip.\n"
          ]
        },
        {
          "output_type": "execute_result",
          "data": {
            "text/plain": [
              "True"
            ]
          },
          "metadata": {},
          "execution_count": 16
        }
      ]
    },
    {
      "cell_type": "code",
      "source": [
        "from nltk.corpus import opinion_lexicon"
      ],
      "metadata": {
        "id": "GyBpIpO7PFe1"
      },
      "execution_count": 17,
      "outputs": []
    },
    {
      "cell_type": "code",
      "source": [
        "pos_list=set(opinion_lexicon.positive()) ## set of positive words\n",
        "neg_list=set(opinion_lexicon.negative()) ## set of negative words"
      ],
      "metadata": {
        "id": "yo5GUPuePPx5"
      },
      "execution_count": 18,
      "outputs": []
    },
    {
      "cell_type": "code",
      "source": [
        "from nltk.tokenize import TreebankWordTokenizer #Tokenizers divide strings into lists of substrings\n",
        "tokenizer =  TreebankWordTokenizer()"
      ],
      "metadata": {
        "id": "yFDcY3VCPUdC"
      },
      "execution_count": 19,
      "outputs": []
    },
    {
      "cell_type": "code",
      "source": [
        "## extraxting total number of positive and negative words\n",
        "senti=0\n",
        "neg_senti=0\n",
        "POSITIVE =[]\n",
        "NEGATIVE =[]\n",
        "for  i in range(1,len(text)+1):\n",
        "    \n",
        "    words = [word.lower() for word in tokenizer.tokenize(globals()['pra%s' % i])]\n",
        "    for word in words:\n",
        "        if word in pos_list:\n",
        "          senti += 1\n",
        "        elif word in neg_list:\n",
        "          neg_senti += 1\n",
        "    POSITIVE.append(senti)\n",
        "    NEGATIVE.append(neg_senti)\n",
        "    senti=0\n",
        "    neg_senti=0"
      ],
      "metadata": {
        "id": "GBpKzdVLPacV"
      },
      "execution_count": 20,
      "outputs": []
    },
    {
      "cell_type": "code",
      "source": [
        "df['POSITIVE SCORE']=POSITIVE ## extraxting total number of positive and negative words\n",
        "df['NEGATIVE SCORE']=NEGATIVE"
      ],
      "metadata": {
        "id": "WD3FTy1_Pdgw"
      },
      "execution_count": 21,
      "outputs": []
    },
    {
      "cell_type": "markdown",
      "source": [
        "##**POLARITY SCORE**\n",
        "Polarity lies between [-1,1], -1 defines a negative sentiment and 1 defines a positive sentiment.\n",
        "\n",
        "Polarity Score = (Positive Score – Negative Score)/ ((Positive Score + Negative Score) + 0.000001)"
      ],
      "metadata": {
        "id": "Vqjt9uOSP5fd"
      }
    },
    {
      "cell_type": "code",
      "source": [
        "## calculating polarity score\n",
        "df['POLARITY SCORE']= (df['POSITIVE SCORE']-df['NEGATIVE SCORE'])/((df['POSITIVE SCORE']+df['NEGATIVE SCORE'])+0.000001) # polarity score"
      ],
      "metadata": {
        "id": "9n4qf_3aP4tV"
      },
      "execution_count": 22,
      "outputs": []
    },
    {
      "cell_type": "code",
      "source": [
        "df['POLARITY SCORE'].describe()"
      ],
      "metadata": {
        "colab": {
          "base_uri": "https://localhost:8080/"
        },
        "id": "Nx4g8600QGsR",
        "outputId": "9c16365e-3757-4e72-be89-fb79df63e71e"
      },
      "execution_count": 23,
      "outputs": [
        {
          "output_type": "execute_result",
          "data": {
            "text/plain": [
              "count    170.000000\n",
              "mean       0.211395\n",
              "std        0.400521\n",
              "min       -0.866667\n",
              "25%       -0.133882\n",
              "50%        0.233362\n",
              "75%        0.515178\n",
              "max        1.000000\n",
              "Name: POLARITY SCORE, dtype: float64"
            ]
          },
          "metadata": {},
          "execution_count": 23
        }
      ]
    },
    {
      "cell_type": "code",
      "source": [
        "negative=[]\n",
        "positive=[]\n",
        "neutral=[]\n",
        "for i in df['POLARITY SCORE']:\n",
        "    if i <0:\n",
        "        negative.append(i)\n",
        "    elif i>0:\n",
        "        positive.append(i)\n",
        "    else:\n",
        "        neutral.append(i)"
      ],
      "metadata": {
        "id": "kM1IaA5mQRIF"
      },
      "execution_count": 24,
      "outputs": []
    },
    {
      "cell_type": "code",
      "source": [
        "print(f' count of negative sentiment {len(negative)/170}\\n',f'count of positive sentiment {len(positive)/170}\\n',\n",
        "      f'count of neutral sentiment {len(neutral)/170}')"
      ],
      "metadata": {
        "colab": {
          "base_uri": "https://localhost:8080/"
        },
        "id": "toWgiWBDQUqr",
        "outputId": "39abdafd-c897-4819-a4c3-17ce285c9516"
      },
      "execution_count": 25,
      "outputs": [
        {
          "output_type": "stream",
          "name": "stdout",
          "text": [
            " count of negative sentiment 0.3235294117647059\n",
            " count of positive sentiment 0.6705882352941176\n",
            " count of neutral sentiment 0.0058823529411764705\n"
          ]
        }
      ]
    },
    {
      "cell_type": "markdown",
      "source": [
        "##From the above output we can say that more than 67% of articles have positive sentiment and 32% articles have negative sentiment and there is only one article which is neutral"
      ],
      "metadata": {
        "id": "6SxpmhMlQa6H"
      }
    },
    {
      "cell_type": "markdown",
      "source": [
        "##**SUBJECTIVITY SCORE**\n",
        "Subjectivity Score = (Positive Score + Negative Score)/ ((Total Words after cleaning) + 0.000001)\n",
        "\n",
        "Range is from 0 to +1"
      ],
      "metadata": {
        "id": "LLyFJG0aQgEa"
      }
    },
    {
      "cell_type": "code",
      "source": [
        "## calculating subjectivity score\n",
        "df['SUBJECTIVITY SCORE'] = (df['POSITIVE SCORE']+df['NEGATIVE SCORE'])/((df['WORD COUNT'])+0.000001) # Subjectivity Score"
      ],
      "metadata": {
        "id": "4uuAQLasQcys"
      },
      "execution_count": 26,
      "outputs": []
    },
    {
      "cell_type": "code",
      "source": [
        "df.head()"
      ],
      "metadata": {
        "colab": {
          "base_uri": "https://localhost:8080/",
          "height": 206
        },
        "id": "l73BKLw4Qwpp",
        "outputId": "e0518102-ad13-4c0c-c6be-01a4c165267f"
      },
      "execution_count": 27,
      "outputs": [
        {
          "output_type": "execute_result",
          "data": {
            "text/plain": [
              "   URL_ID                                                URL  sentence_count  \\\n",
              "0       1  https://insights.blackcoffer.com/how-is-login-...              24   \n",
              "1       2  https://insights.blackcoffer.com/how-does-ai-h...              28   \n",
              "2       3  https://insights.blackcoffer.com/ai-and-its-im...              77   \n",
              "3       4  https://insights.blackcoffer.com/how-do-deep-l...              15   \n",
              "4       5  https://insights.blackcoffer.com/how-artificia...              57   \n",
              "\n",
              "   WORD COUNT  POSITIVE SCORE  NEGATIVE SCORE  POLARITY SCORE  \\\n",
              "0         432              17               9        0.307692   \n",
              "1         384              27               3        0.800000   \n",
              "2        1086              82              21        0.592233   \n",
              "3         254              14               0        1.000000   \n",
              "4         706              53              13        0.606061   \n",
              "\n",
              "   SUBJECTIVITY SCORE  \n",
              "0            0.060185  \n",
              "1            0.078125  \n",
              "2            0.094843  \n",
              "3            0.055118  \n",
              "4            0.093484  "
            ],
            "text/html": [
              "\n",
              "  <div id=\"df-261d5969-1412-43ba-bf1a-b4c8be286c77\">\n",
              "    <div class=\"colab-df-container\">\n",
              "      <div>\n",
              "<style scoped>\n",
              "    .dataframe tbody tr th:only-of-type {\n",
              "        vertical-align: middle;\n",
              "    }\n",
              "\n",
              "    .dataframe tbody tr th {\n",
              "        vertical-align: top;\n",
              "    }\n",
              "\n",
              "    .dataframe thead th {\n",
              "        text-align: right;\n",
              "    }\n",
              "</style>\n",
              "<table border=\"1\" class=\"dataframe\">\n",
              "  <thead>\n",
              "    <tr style=\"text-align: right;\">\n",
              "      <th></th>\n",
              "      <th>URL_ID</th>\n",
              "      <th>URL</th>\n",
              "      <th>sentence_count</th>\n",
              "      <th>WORD COUNT</th>\n",
              "      <th>POSITIVE SCORE</th>\n",
              "      <th>NEGATIVE SCORE</th>\n",
              "      <th>POLARITY SCORE</th>\n",
              "      <th>SUBJECTIVITY SCORE</th>\n",
              "    </tr>\n",
              "  </thead>\n",
              "  <tbody>\n",
              "    <tr>\n",
              "      <th>0</th>\n",
              "      <td>1</td>\n",
              "      <td>https://insights.blackcoffer.com/how-is-login-...</td>\n",
              "      <td>24</td>\n",
              "      <td>432</td>\n",
              "      <td>17</td>\n",
              "      <td>9</td>\n",
              "      <td>0.307692</td>\n",
              "      <td>0.060185</td>\n",
              "    </tr>\n",
              "    <tr>\n",
              "      <th>1</th>\n",
              "      <td>2</td>\n",
              "      <td>https://insights.blackcoffer.com/how-does-ai-h...</td>\n",
              "      <td>28</td>\n",
              "      <td>384</td>\n",
              "      <td>27</td>\n",
              "      <td>3</td>\n",
              "      <td>0.800000</td>\n",
              "      <td>0.078125</td>\n",
              "    </tr>\n",
              "    <tr>\n",
              "      <th>2</th>\n",
              "      <td>3</td>\n",
              "      <td>https://insights.blackcoffer.com/ai-and-its-im...</td>\n",
              "      <td>77</td>\n",
              "      <td>1086</td>\n",
              "      <td>82</td>\n",
              "      <td>21</td>\n",
              "      <td>0.592233</td>\n",
              "      <td>0.094843</td>\n",
              "    </tr>\n",
              "    <tr>\n",
              "      <th>3</th>\n",
              "      <td>4</td>\n",
              "      <td>https://insights.blackcoffer.com/how-do-deep-l...</td>\n",
              "      <td>15</td>\n",
              "      <td>254</td>\n",
              "      <td>14</td>\n",
              "      <td>0</td>\n",
              "      <td>1.000000</td>\n",
              "      <td>0.055118</td>\n",
              "    </tr>\n",
              "    <tr>\n",
              "      <th>4</th>\n",
              "      <td>5</td>\n",
              "      <td>https://insights.blackcoffer.com/how-artificia...</td>\n",
              "      <td>57</td>\n",
              "      <td>706</td>\n",
              "      <td>53</td>\n",
              "      <td>13</td>\n",
              "      <td>0.606061</td>\n",
              "      <td>0.093484</td>\n",
              "    </tr>\n",
              "  </tbody>\n",
              "</table>\n",
              "</div>\n",
              "      <button class=\"colab-df-convert\" onclick=\"convertToInteractive('df-261d5969-1412-43ba-bf1a-b4c8be286c77')\"\n",
              "              title=\"Convert this dataframe to an interactive table.\"\n",
              "              style=\"display:none;\">\n",
              "        \n",
              "  <svg xmlns=\"http://www.w3.org/2000/svg\" height=\"24px\"viewBox=\"0 0 24 24\"\n",
              "       width=\"24px\">\n",
              "    <path d=\"M0 0h24v24H0V0z\" fill=\"none\"/>\n",
              "    <path d=\"M18.56 5.44l.94 2.06.94-2.06 2.06-.94-2.06-.94-.94-2.06-.94 2.06-2.06.94zm-11 1L8.5 8.5l.94-2.06 2.06-.94-2.06-.94L8.5 2.5l-.94 2.06-2.06.94zm10 10l.94 2.06.94-2.06 2.06-.94-2.06-.94-.94-2.06-.94 2.06-2.06.94z\"/><path d=\"M17.41 7.96l-1.37-1.37c-.4-.4-.92-.59-1.43-.59-.52 0-1.04.2-1.43.59L10.3 9.45l-7.72 7.72c-.78.78-.78 2.05 0 2.83L4 21.41c.39.39.9.59 1.41.59.51 0 1.02-.2 1.41-.59l7.78-7.78 2.81-2.81c.8-.78.8-2.07 0-2.86zM5.41 20L4 18.59l7.72-7.72 1.47 1.35L5.41 20z\"/>\n",
              "  </svg>\n",
              "      </button>\n",
              "      \n",
              "  <style>\n",
              "    .colab-df-container {\n",
              "      display:flex;\n",
              "      flex-wrap:wrap;\n",
              "      gap: 12px;\n",
              "    }\n",
              "\n",
              "    .colab-df-convert {\n",
              "      background-color: #E8F0FE;\n",
              "      border: none;\n",
              "      border-radius: 50%;\n",
              "      cursor: pointer;\n",
              "      display: none;\n",
              "      fill: #1967D2;\n",
              "      height: 32px;\n",
              "      padding: 0 0 0 0;\n",
              "      width: 32px;\n",
              "    }\n",
              "\n",
              "    .colab-df-convert:hover {\n",
              "      background-color: #E2EBFA;\n",
              "      box-shadow: 0px 1px 2px rgba(60, 64, 67, 0.3), 0px 1px 3px 1px rgba(60, 64, 67, 0.15);\n",
              "      fill: #174EA6;\n",
              "    }\n",
              "\n",
              "    [theme=dark] .colab-df-convert {\n",
              "      background-color: #3B4455;\n",
              "      fill: #D2E3FC;\n",
              "    }\n",
              "\n",
              "    [theme=dark] .colab-df-convert:hover {\n",
              "      background-color: #434B5C;\n",
              "      box-shadow: 0px 1px 3px 1px rgba(0, 0, 0, 0.15);\n",
              "      filter: drop-shadow(0px 1px 2px rgba(0, 0, 0, 0.3));\n",
              "      fill: #FFFFFF;\n",
              "    }\n",
              "  </style>\n",
              "\n",
              "      <script>\n",
              "        const buttonEl =\n",
              "          document.querySelector('#df-261d5969-1412-43ba-bf1a-b4c8be286c77 button.colab-df-convert');\n",
              "        buttonEl.style.display =\n",
              "          google.colab.kernel.accessAllowed ? 'block' : 'none';\n",
              "\n",
              "        async function convertToInteractive(key) {\n",
              "          const element = document.querySelector('#df-261d5969-1412-43ba-bf1a-b4c8be286c77');\n",
              "          const dataTable =\n",
              "            await google.colab.kernel.invokeFunction('convertToInteractive',\n",
              "                                                     [key], {});\n",
              "          if (!dataTable) return;\n",
              "\n",
              "          const docLinkHtml = 'Like what you see? Visit the ' +\n",
              "            '<a target=\"_blank\" href=https://colab.research.google.com/notebooks/data_table.ipynb>data table notebook</a>'\n",
              "            + ' to learn more about interactive tables.';\n",
              "          element.innerHTML = '';\n",
              "          dataTable['output_type'] = 'display_data';\n",
              "          await google.colab.output.renderOutput(dataTable, element);\n",
              "          const docLink = document.createElement('div');\n",
              "          docLink.innerHTML = docLinkHtml;\n",
              "          element.appendChild(docLink);\n",
              "        }\n",
              "      </script>\n",
              "    </div>\n",
              "  </div>\n",
              "  "
            ]
          },
          "metadata": {},
          "execution_count": 27
        }
      ]
    },
    {
      "cell_type": "markdown",
      "source": [
        "## Subjectivity quantifies the amount of personal opinion and factual information contained in the text.\n",
        "## The higher subjectivity means that the text contains personal opinion rather than factual information."
      ],
      "metadata": {
        "id": "j6-LL4cfQ1l9"
      }
    },
    {
      "cell_type": "code",
      "source": [
        "df['SUBJECTIVITY SCORE'].describe()"
      ],
      "metadata": {
        "colab": {
          "base_uri": "https://localhost:8080/"
        },
        "id": "RSyxGFQcQ7Si",
        "outputId": "46589b71-b623-426e-cdc7-56239b2531d8"
      },
      "execution_count": 28,
      "outputs": [
        {
          "output_type": "execute_result",
          "data": {
            "text/plain": [
              "count    170.000000\n",
              "mean       0.102234\n",
              "std        0.031552\n",
              "min        0.021798\n",
              "25%        0.084920\n",
              "50%        0.098744\n",
              "75%        0.117735\n",
              "max        0.205263\n",
              "Name: SUBJECTIVITY SCORE, dtype: float64"
            ]
          },
          "metadata": {},
          "execution_count": 28
        }
      ]
    },
    {
      "cell_type": "markdown",
      "source": [
        "##From the above output we can conclude that each article in this dataset contains most of the anecdotal information rather than personal opinion\n",
        "\n",
        "### -----------------------------------------------------------------------------------------------------------------------------------------------------------"
      ],
      "metadata": {
        "id": "Ff5TJm02RFA_"
      }
    },
    {
      "cell_type": "markdown",
      "source": [
        "##**Analysis of Readability**\n",
        "Analysis of Readability is calculated using the Gunning Fox index formula described below.\n",
        "\n",
        "Average Sentence Length = the number of words / the number of sentences\n",
        "\n",
        "Percentage of Complex words = the number of complex words / the number of words\n",
        "\n",
        "Fog Index = 0.4 * (Average Sentence Length + Percentage of Complex words)"
      ],
      "metadata": {
        "id": "1E6NUOXKUE57"
      }
    },
    {
      "cell_type": "code",
      "source": [
        "## calculating avg sentence length\n",
        "df['AVG SENTENCE LENGTH'] = df['WORD COUNT'] / df['sentence_count'] "
      ],
      "metadata": {
        "id": "dr_CbjKtRJ9n"
      },
      "execution_count": 29,
      "outputs": []
    },
    {
      "cell_type": "code",
      "source": [
        "df.head()"
      ],
      "metadata": {
        "colab": {
          "base_uri": "https://localhost:8080/",
          "height": 302
        },
        "id": "OEikgstDUPcK",
        "outputId": "4bbe3418-42e3-4ee0-8c0b-9083043ba1dd"
      },
      "execution_count": 30,
      "outputs": [
        {
          "output_type": "execute_result",
          "data": {
            "text/plain": [
              "   URL_ID                                                URL  sentence_count  \\\n",
              "0       1  https://insights.blackcoffer.com/how-is-login-...              24   \n",
              "1       2  https://insights.blackcoffer.com/how-does-ai-h...              28   \n",
              "2       3  https://insights.blackcoffer.com/ai-and-its-im...              77   \n",
              "3       4  https://insights.blackcoffer.com/how-do-deep-l...              15   \n",
              "4       5  https://insights.blackcoffer.com/how-artificia...              57   \n",
              "\n",
              "   WORD COUNT  POSITIVE SCORE  NEGATIVE SCORE  POLARITY SCORE  \\\n",
              "0         432              17               9        0.307692   \n",
              "1         384              27               3        0.800000   \n",
              "2        1086              82              21        0.592233   \n",
              "3         254              14               0        1.000000   \n",
              "4         706              53              13        0.606061   \n",
              "\n",
              "   SUBJECTIVITY SCORE  AVG SENTENCE LENGTH  \n",
              "0            0.060185            18.000000  \n",
              "1            0.078125            13.714286  \n",
              "2            0.094843            14.103896  \n",
              "3            0.055118            16.933333  \n",
              "4            0.093484            12.385965  "
            ],
            "text/html": [
              "\n",
              "  <div id=\"df-04984d9f-4f34-4ac9-a08a-495bf8f68551\">\n",
              "    <div class=\"colab-df-container\">\n",
              "      <div>\n",
              "<style scoped>\n",
              "    .dataframe tbody tr th:only-of-type {\n",
              "        vertical-align: middle;\n",
              "    }\n",
              "\n",
              "    .dataframe tbody tr th {\n",
              "        vertical-align: top;\n",
              "    }\n",
              "\n",
              "    .dataframe thead th {\n",
              "        text-align: right;\n",
              "    }\n",
              "</style>\n",
              "<table border=\"1\" class=\"dataframe\">\n",
              "  <thead>\n",
              "    <tr style=\"text-align: right;\">\n",
              "      <th></th>\n",
              "      <th>URL_ID</th>\n",
              "      <th>URL</th>\n",
              "      <th>sentence_count</th>\n",
              "      <th>WORD COUNT</th>\n",
              "      <th>POSITIVE SCORE</th>\n",
              "      <th>NEGATIVE SCORE</th>\n",
              "      <th>POLARITY SCORE</th>\n",
              "      <th>SUBJECTIVITY SCORE</th>\n",
              "      <th>AVG SENTENCE LENGTH</th>\n",
              "    </tr>\n",
              "  </thead>\n",
              "  <tbody>\n",
              "    <tr>\n",
              "      <th>0</th>\n",
              "      <td>1</td>\n",
              "      <td>https://insights.blackcoffer.com/how-is-login-...</td>\n",
              "      <td>24</td>\n",
              "      <td>432</td>\n",
              "      <td>17</td>\n",
              "      <td>9</td>\n",
              "      <td>0.307692</td>\n",
              "      <td>0.060185</td>\n",
              "      <td>18.000000</td>\n",
              "    </tr>\n",
              "    <tr>\n",
              "      <th>1</th>\n",
              "      <td>2</td>\n",
              "      <td>https://insights.blackcoffer.com/how-does-ai-h...</td>\n",
              "      <td>28</td>\n",
              "      <td>384</td>\n",
              "      <td>27</td>\n",
              "      <td>3</td>\n",
              "      <td>0.800000</td>\n",
              "      <td>0.078125</td>\n",
              "      <td>13.714286</td>\n",
              "    </tr>\n",
              "    <tr>\n",
              "      <th>2</th>\n",
              "      <td>3</td>\n",
              "      <td>https://insights.blackcoffer.com/ai-and-its-im...</td>\n",
              "      <td>77</td>\n",
              "      <td>1086</td>\n",
              "      <td>82</td>\n",
              "      <td>21</td>\n",
              "      <td>0.592233</td>\n",
              "      <td>0.094843</td>\n",
              "      <td>14.103896</td>\n",
              "    </tr>\n",
              "    <tr>\n",
              "      <th>3</th>\n",
              "      <td>4</td>\n",
              "      <td>https://insights.blackcoffer.com/how-do-deep-l...</td>\n",
              "      <td>15</td>\n",
              "      <td>254</td>\n",
              "      <td>14</td>\n",
              "      <td>0</td>\n",
              "      <td>1.000000</td>\n",
              "      <td>0.055118</td>\n",
              "      <td>16.933333</td>\n",
              "    </tr>\n",
              "    <tr>\n",
              "      <th>4</th>\n",
              "      <td>5</td>\n",
              "      <td>https://insights.blackcoffer.com/how-artificia...</td>\n",
              "      <td>57</td>\n",
              "      <td>706</td>\n",
              "      <td>53</td>\n",
              "      <td>13</td>\n",
              "      <td>0.606061</td>\n",
              "      <td>0.093484</td>\n",
              "      <td>12.385965</td>\n",
              "    </tr>\n",
              "  </tbody>\n",
              "</table>\n",
              "</div>\n",
              "      <button class=\"colab-df-convert\" onclick=\"convertToInteractive('df-04984d9f-4f34-4ac9-a08a-495bf8f68551')\"\n",
              "              title=\"Convert this dataframe to an interactive table.\"\n",
              "              style=\"display:none;\">\n",
              "        \n",
              "  <svg xmlns=\"http://www.w3.org/2000/svg\" height=\"24px\"viewBox=\"0 0 24 24\"\n",
              "       width=\"24px\">\n",
              "    <path d=\"M0 0h24v24H0V0z\" fill=\"none\"/>\n",
              "    <path d=\"M18.56 5.44l.94 2.06.94-2.06 2.06-.94-2.06-.94-.94-2.06-.94 2.06-2.06.94zm-11 1L8.5 8.5l.94-2.06 2.06-.94-2.06-.94L8.5 2.5l-.94 2.06-2.06.94zm10 10l.94 2.06.94-2.06 2.06-.94-2.06-.94-.94-2.06-.94 2.06-2.06.94z\"/><path d=\"M17.41 7.96l-1.37-1.37c-.4-.4-.92-.59-1.43-.59-.52 0-1.04.2-1.43.59L10.3 9.45l-7.72 7.72c-.78.78-.78 2.05 0 2.83L4 21.41c.39.39.9.59 1.41.59.51 0 1.02-.2 1.41-.59l7.78-7.78 2.81-2.81c.8-.78.8-2.07 0-2.86zM5.41 20L4 18.59l7.72-7.72 1.47 1.35L5.41 20z\"/>\n",
              "  </svg>\n",
              "      </button>\n",
              "      \n",
              "  <style>\n",
              "    .colab-df-container {\n",
              "      display:flex;\n",
              "      flex-wrap:wrap;\n",
              "      gap: 12px;\n",
              "    }\n",
              "\n",
              "    .colab-df-convert {\n",
              "      background-color: #E8F0FE;\n",
              "      border: none;\n",
              "      border-radius: 50%;\n",
              "      cursor: pointer;\n",
              "      display: none;\n",
              "      fill: #1967D2;\n",
              "      height: 32px;\n",
              "      padding: 0 0 0 0;\n",
              "      width: 32px;\n",
              "    }\n",
              "\n",
              "    .colab-df-convert:hover {\n",
              "      background-color: #E2EBFA;\n",
              "      box-shadow: 0px 1px 2px rgba(60, 64, 67, 0.3), 0px 1px 3px 1px rgba(60, 64, 67, 0.15);\n",
              "      fill: #174EA6;\n",
              "    }\n",
              "\n",
              "    [theme=dark] .colab-df-convert {\n",
              "      background-color: #3B4455;\n",
              "      fill: #D2E3FC;\n",
              "    }\n",
              "\n",
              "    [theme=dark] .colab-df-convert:hover {\n",
              "      background-color: #434B5C;\n",
              "      box-shadow: 0px 1px 3px 1px rgba(0, 0, 0, 0.15);\n",
              "      filter: drop-shadow(0px 1px 2px rgba(0, 0, 0, 0.3));\n",
              "      fill: #FFFFFF;\n",
              "    }\n",
              "  </style>\n",
              "\n",
              "      <script>\n",
              "        const buttonEl =\n",
              "          document.querySelector('#df-04984d9f-4f34-4ac9-a08a-495bf8f68551 button.colab-df-convert');\n",
              "        buttonEl.style.display =\n",
              "          google.colab.kernel.accessAllowed ? 'block' : 'none';\n",
              "\n",
              "        async function convertToInteractive(key) {\n",
              "          const element = document.querySelector('#df-04984d9f-4f34-4ac9-a08a-495bf8f68551');\n",
              "          const dataTable =\n",
              "            await google.colab.kernel.invokeFunction('convertToInteractive',\n",
              "                                                     [key], {});\n",
              "          if (!dataTable) return;\n",
              "\n",
              "          const docLinkHtml = 'Like what you see? Visit the ' +\n",
              "            '<a target=\"_blank\" href=https://colab.research.google.com/notebooks/data_table.ipynb>data table notebook</a>'\n",
              "            + ' to learn more about interactive tables.';\n",
              "          element.innerHTML = '';\n",
              "          dataTable['output_type'] = 'display_data';\n",
              "          await google.colab.output.renderOutput(dataTable, element);\n",
              "          const docLink = document.createElement('div');\n",
              "          docLink.innerHTML = docLinkHtml;\n",
              "          element.appendChild(docLink);\n",
              "        }\n",
              "      </script>\n",
              "    </div>\n",
              "  </div>\n",
              "  "
            ]
          },
          "metadata": {},
          "execution_count": 30
        }
      ]
    },
    {
      "cell_type": "code",
      "source": [
        "def syllable_count(text):\n",
        "    syllable = 0\n",
        "    for words in text.split():\n",
        "\n",
        "        for vowel in ['a','e','i','o','u']:\n",
        "            syllable =syllable +  words.count(vowel)\n",
        "        for ending in ['es','ed','e']:\n",
        "            \n",
        "            if words.endswith(ending):  # if word is ending with ('es' 'ed' and 'e')\n",
        "               syllable = syllable -  1\n",
        "        if words.endswith('le'):        # if word is ending with ('le')\n",
        "            syllable =syllable + 1\n",
        "    return syllable"
      ],
      "metadata": {
        "id": "S3Q_ZiebUSg-"
      },
      "execution_count": 31,
      "outputs": []
    },
    {
      "cell_type": "code",
      "source": [
        "def complex_word(sentences):\n",
        "    count=[]\n",
        "    number=0\n",
        "    for word in sentences.split():\n",
        "#         print(word)\n",
        "        count.append(syllable_count(word))\n",
        "    for i in count:       ## if more than two syllable in word\n",
        "        if i>=2:\n",
        "            number+=1\n",
        "    return number"
      ],
      "metadata": {
        "id": "4-ZEmcXJUWnG"
      },
      "execution_count": 32,
      "outputs": []
    },
    {
      "cell_type": "code",
      "source": [
        "complex_words=[]\n",
        "for i in range(len(text)):\n",
        "    i+=1\n",
        "    complex_=complex_word(globals()['pra%s' % i]) ## calculating complex words\n",
        "    complex_words.append(complex_)"
      ],
      "metadata": {
        "id": "NhM8xuWZUaAN"
      },
      "execution_count": 33,
      "outputs": []
    },
    {
      "cell_type": "markdown",
      "source": [
        "## **Complex Word Count**\n",
        "\n",
        "Complex words are words in the text that contain more than two syllables."
      ],
      "metadata": {
        "id": "6sVtSQZRUhXw"
      }
    },
    {
      "cell_type": "code",
      "source": [
        "df['COMPLEX WORD COUNT']=complex_words ### complex word count"
      ],
      "metadata": {
        "id": "JxzDKp1fUdfO"
      },
      "execution_count": 34,
      "outputs": []
    },
    {
      "cell_type": "code",
      "source": [
        "df.head()"
      ],
      "metadata": {
        "colab": {
          "base_uri": "https://localhost:8080/",
          "height": 354
        },
        "id": "A1tSmom_Uxsz",
        "outputId": "16f2c959-2361-49ca-de23-6bf910058e7e"
      },
      "execution_count": 35,
      "outputs": [
        {
          "output_type": "execute_result",
          "data": {
            "text/plain": [
              "   URL_ID                                                URL  sentence_count  \\\n",
              "0       1  https://insights.blackcoffer.com/how-is-login-...              24   \n",
              "1       2  https://insights.blackcoffer.com/how-does-ai-h...              28   \n",
              "2       3  https://insights.blackcoffer.com/ai-and-its-im...              77   \n",
              "3       4  https://insights.blackcoffer.com/how-do-deep-l...              15   \n",
              "4       5  https://insights.blackcoffer.com/how-artificia...              57   \n",
              "\n",
              "   WORD COUNT  POSITIVE SCORE  NEGATIVE SCORE  POLARITY SCORE  \\\n",
              "0         432              17               9        0.307692   \n",
              "1         384              27               3        0.800000   \n",
              "2        1086              82              21        0.592233   \n",
              "3         254              14               0        1.000000   \n",
              "4         706              53              13        0.606061   \n",
              "\n",
              "   SUBJECTIVITY SCORE  AVG SENTENCE LENGTH  COMPLEX WORD COUNT  \n",
              "0            0.060185            18.000000                 324  \n",
              "1            0.078125            13.714286                 286  \n",
              "2            0.094843            14.103896                 864  \n",
              "3            0.055118            16.933333                 201  \n",
              "4            0.093484            12.385965                 539  "
            ],
            "text/html": [
              "\n",
              "  <div id=\"df-4acae0fe-2f85-4999-8e69-75d08a1aa26e\">\n",
              "    <div class=\"colab-df-container\">\n",
              "      <div>\n",
              "<style scoped>\n",
              "    .dataframe tbody tr th:only-of-type {\n",
              "        vertical-align: middle;\n",
              "    }\n",
              "\n",
              "    .dataframe tbody tr th {\n",
              "        vertical-align: top;\n",
              "    }\n",
              "\n",
              "    .dataframe thead th {\n",
              "        text-align: right;\n",
              "    }\n",
              "</style>\n",
              "<table border=\"1\" class=\"dataframe\">\n",
              "  <thead>\n",
              "    <tr style=\"text-align: right;\">\n",
              "      <th></th>\n",
              "      <th>URL_ID</th>\n",
              "      <th>URL</th>\n",
              "      <th>sentence_count</th>\n",
              "      <th>WORD COUNT</th>\n",
              "      <th>POSITIVE SCORE</th>\n",
              "      <th>NEGATIVE SCORE</th>\n",
              "      <th>POLARITY SCORE</th>\n",
              "      <th>SUBJECTIVITY SCORE</th>\n",
              "      <th>AVG SENTENCE LENGTH</th>\n",
              "      <th>COMPLEX WORD COUNT</th>\n",
              "    </tr>\n",
              "  </thead>\n",
              "  <tbody>\n",
              "    <tr>\n",
              "      <th>0</th>\n",
              "      <td>1</td>\n",
              "      <td>https://insights.blackcoffer.com/how-is-login-...</td>\n",
              "      <td>24</td>\n",
              "      <td>432</td>\n",
              "      <td>17</td>\n",
              "      <td>9</td>\n",
              "      <td>0.307692</td>\n",
              "      <td>0.060185</td>\n",
              "      <td>18.000000</td>\n",
              "      <td>324</td>\n",
              "    </tr>\n",
              "    <tr>\n",
              "      <th>1</th>\n",
              "      <td>2</td>\n",
              "      <td>https://insights.blackcoffer.com/how-does-ai-h...</td>\n",
              "      <td>28</td>\n",
              "      <td>384</td>\n",
              "      <td>27</td>\n",
              "      <td>3</td>\n",
              "      <td>0.800000</td>\n",
              "      <td>0.078125</td>\n",
              "      <td>13.714286</td>\n",
              "      <td>286</td>\n",
              "    </tr>\n",
              "    <tr>\n",
              "      <th>2</th>\n",
              "      <td>3</td>\n",
              "      <td>https://insights.blackcoffer.com/ai-and-its-im...</td>\n",
              "      <td>77</td>\n",
              "      <td>1086</td>\n",
              "      <td>82</td>\n",
              "      <td>21</td>\n",
              "      <td>0.592233</td>\n",
              "      <td>0.094843</td>\n",
              "      <td>14.103896</td>\n",
              "      <td>864</td>\n",
              "    </tr>\n",
              "    <tr>\n",
              "      <th>3</th>\n",
              "      <td>4</td>\n",
              "      <td>https://insights.blackcoffer.com/how-do-deep-l...</td>\n",
              "      <td>15</td>\n",
              "      <td>254</td>\n",
              "      <td>14</td>\n",
              "      <td>0</td>\n",
              "      <td>1.000000</td>\n",
              "      <td>0.055118</td>\n",
              "      <td>16.933333</td>\n",
              "      <td>201</td>\n",
              "    </tr>\n",
              "    <tr>\n",
              "      <th>4</th>\n",
              "      <td>5</td>\n",
              "      <td>https://insights.blackcoffer.com/how-artificia...</td>\n",
              "      <td>57</td>\n",
              "      <td>706</td>\n",
              "      <td>53</td>\n",
              "      <td>13</td>\n",
              "      <td>0.606061</td>\n",
              "      <td>0.093484</td>\n",
              "      <td>12.385965</td>\n",
              "      <td>539</td>\n",
              "    </tr>\n",
              "  </tbody>\n",
              "</table>\n",
              "</div>\n",
              "      <button class=\"colab-df-convert\" onclick=\"convertToInteractive('df-4acae0fe-2f85-4999-8e69-75d08a1aa26e')\"\n",
              "              title=\"Convert this dataframe to an interactive table.\"\n",
              "              style=\"display:none;\">\n",
              "        \n",
              "  <svg xmlns=\"http://www.w3.org/2000/svg\" height=\"24px\"viewBox=\"0 0 24 24\"\n",
              "       width=\"24px\">\n",
              "    <path d=\"M0 0h24v24H0V0z\" fill=\"none\"/>\n",
              "    <path d=\"M18.56 5.44l.94 2.06.94-2.06 2.06-.94-2.06-.94-.94-2.06-.94 2.06-2.06.94zm-11 1L8.5 8.5l.94-2.06 2.06-.94-2.06-.94L8.5 2.5l-.94 2.06-2.06.94zm10 10l.94 2.06.94-2.06 2.06-.94-2.06-.94-.94-2.06-.94 2.06-2.06.94z\"/><path d=\"M17.41 7.96l-1.37-1.37c-.4-.4-.92-.59-1.43-.59-.52 0-1.04.2-1.43.59L10.3 9.45l-7.72 7.72c-.78.78-.78 2.05 0 2.83L4 21.41c.39.39.9.59 1.41.59.51 0 1.02-.2 1.41-.59l7.78-7.78 2.81-2.81c.8-.78.8-2.07 0-2.86zM5.41 20L4 18.59l7.72-7.72 1.47 1.35L5.41 20z\"/>\n",
              "  </svg>\n",
              "      </button>\n",
              "      \n",
              "  <style>\n",
              "    .colab-df-container {\n",
              "      display:flex;\n",
              "      flex-wrap:wrap;\n",
              "      gap: 12px;\n",
              "    }\n",
              "\n",
              "    .colab-df-convert {\n",
              "      background-color: #E8F0FE;\n",
              "      border: none;\n",
              "      border-radius: 50%;\n",
              "      cursor: pointer;\n",
              "      display: none;\n",
              "      fill: #1967D2;\n",
              "      height: 32px;\n",
              "      padding: 0 0 0 0;\n",
              "      width: 32px;\n",
              "    }\n",
              "\n",
              "    .colab-df-convert:hover {\n",
              "      background-color: #E2EBFA;\n",
              "      box-shadow: 0px 1px 2px rgba(60, 64, 67, 0.3), 0px 1px 3px 1px rgba(60, 64, 67, 0.15);\n",
              "      fill: #174EA6;\n",
              "    }\n",
              "\n",
              "    [theme=dark] .colab-df-convert {\n",
              "      background-color: #3B4455;\n",
              "      fill: #D2E3FC;\n",
              "    }\n",
              "\n",
              "    [theme=dark] .colab-df-convert:hover {\n",
              "      background-color: #434B5C;\n",
              "      box-shadow: 0px 1px 3px 1px rgba(0, 0, 0, 0.15);\n",
              "      filter: drop-shadow(0px 1px 2px rgba(0, 0, 0, 0.3));\n",
              "      fill: #FFFFFF;\n",
              "    }\n",
              "  </style>\n",
              "\n",
              "      <script>\n",
              "        const buttonEl =\n",
              "          document.querySelector('#df-4acae0fe-2f85-4999-8e69-75d08a1aa26e button.colab-df-convert');\n",
              "        buttonEl.style.display =\n",
              "          google.colab.kernel.accessAllowed ? 'block' : 'none';\n",
              "\n",
              "        async function convertToInteractive(key) {\n",
              "          const element = document.querySelector('#df-4acae0fe-2f85-4999-8e69-75d08a1aa26e');\n",
              "          const dataTable =\n",
              "            await google.colab.kernel.invokeFunction('convertToInteractive',\n",
              "                                                     [key], {});\n",
              "          if (!dataTable) return;\n",
              "\n",
              "          const docLinkHtml = 'Like what you see? Visit the ' +\n",
              "            '<a target=\"_blank\" href=https://colab.research.google.com/notebooks/data_table.ipynb>data table notebook</a>'\n",
              "            + ' to learn more about interactive tables.';\n",
              "          element.innerHTML = '';\n",
              "          dataTable['output_type'] = 'display_data';\n",
              "          await google.colab.output.renderOutput(dataTable, element);\n",
              "          const docLink = document.createElement('div');\n",
              "          docLink.innerHTML = docLinkHtml;\n",
              "          element.appendChild(docLink);\n",
              "        }\n",
              "      </script>\n",
              "    </div>\n",
              "  </div>\n",
              "  "
            ]
          },
          "metadata": {},
          "execution_count": 35
        }
      ]
    },
    {
      "cell_type": "code",
      "source": [
        "#Percentage of Complex words = the number of complex words / the number of words\n",
        "df['PERCENTAGE OF COMPLEX WORDS'] = df['COMPLEX WORD COUNT'] / df['WORD COUNT']"
      ],
      "metadata": {
        "id": "rNUZqtA-UyHZ"
      },
      "execution_count": 36,
      "outputs": []
    },
    {
      "cell_type": "code",
      "source": [
        "#Fog Index = 0.4 * (Average Sentence Length + Percentage of Complex words)\n",
        "df['FOG INDEX'] = 0.4 * (df['AVG SENTENCE LENGTH'] + df['PERCENTAGE OF COMPLEX WORDS'])"
      ],
      "metadata": {
        "id": "7W1i8gsRVMEQ"
      },
      "execution_count": 37,
      "outputs": []
    },
    {
      "cell_type": "markdown",
      "source": [
        "##**Fog Index**\n",
        "The fog index is commonly used to confirm that text can be read easily by the intended audience. Texts for a wide audience generally need a fog index less than 12. Texts requiring near-universal understanding generally need an index less than 8."
      ],
      "metadata": {
        "id": "nx7UKTv2VBCS"
      }
    },
    {
      "cell_type": "code",
      "source": [
        "df['FOG INDEX'].describe()"
      ],
      "metadata": {
        "colab": {
          "base_uri": "https://localhost:8080/"
        },
        "id": "thJl8SeGU2Pl",
        "outputId": "995a4d99-df21-4b31-98ca-46ff0cb21d95"
      },
      "execution_count": 38,
      "outputs": [
        {
          "output_type": "execute_result",
          "data": {
            "text/plain": [
              "count    170.000000\n",
              "mean       5.883277\n",
              "std        3.229066\n",
              "min        3.023622\n",
              "25%        4.739380\n",
              "50%        5.522036\n",
              "75%        6.362888\n",
              "max       42.762947\n",
              "Name: FOG INDEX, dtype: float64"
            ]
          },
          "metadata": {},
          "execution_count": 38
        }
      ]
    },
    {
      "cell_type": "code",
      "source": [
        "high_readability=[]\n",
        "low_readability=[]\n",
        "neutral=[]\n",
        "for i in df['FOG INDEX']:\n",
        "    if i <12:\n",
        "        high_readability.append(i)\n",
        "    elif i>=12:\n",
        "        low_readability.append(i)"
      ],
      "metadata": {
        "id": "TUiT9WPNVRkF"
      },
      "execution_count": 39,
      "outputs": []
    },
    {
      "cell_type": "code",
      "source": [
        "print(f' aritcles with high readablity :{len(high_readability)/170}\\n',f'aritcles with low readablity :{len(low_readability)/170}')"
      ],
      "metadata": {
        "colab": {
          "base_uri": "https://localhost:8080/"
        },
        "id": "TZw9NPbNVVn1",
        "outputId": "cff86953-b28f-404d-8cf8-85cbb3a75df1"
      },
      "execution_count": 40,
      "outputs": [
        {
          "output_type": "stream",
          "name": "stdout",
          "text": [
            " aritcles with high readablity :0.9882352941176471\n",
            " aritcles with low readablity :0.011764705882352941\n"
          ]
        }
      ]
    },
    {
      "cell_type": "markdown",
      "source": [
        "##From the above output we can say that more than 98% of the articles in this dataset are high readability, which means the text can be read by a wide audience\n",
        "-----------------------------------------------------------------------------------------------------------------------------------------------------------"
      ],
      "metadata": {
        "id": "Tru2Mj3WVgLV"
      }
    },
    {
      "cell_type": "markdown",
      "source": [
        "##**Average Number of Words Per Sentence**\n",
        "\n",
        "The formula for calculating is:\n",
        "\n",
        "Average Number of Words Per Sentence = the total number of words / the total number of sentences"
      ],
      "metadata": {
        "id": "TcjUu3FMWEsq"
      }
    },
    {
      "cell_type": "code",
      "source": [
        "df['AVG NUMBER OF WORDS PER SENTENCE'] =  df['WORD COUNT'] / df['sentence_count']"
      ],
      "metadata": {
        "id": "ihhLyAoiVaC2"
      },
      "execution_count": 41,
      "outputs": []
    },
    {
      "cell_type": "code",
      "source": [
        "df.head()"
      ],
      "metadata": {
        "colab": {
          "base_uri": "https://localhost:8080/",
          "height": 389
        },
        "id": "ORn77l8EWNKi",
        "outputId": "0ad1939d-bb4c-4fe5-ab59-b312b6443963"
      },
      "execution_count": 42,
      "outputs": [
        {
          "output_type": "execute_result",
          "data": {
            "text/plain": [
              "   URL_ID                                                URL  sentence_count  \\\n",
              "0       1  https://insights.blackcoffer.com/how-is-login-...              24   \n",
              "1       2  https://insights.blackcoffer.com/how-does-ai-h...              28   \n",
              "2       3  https://insights.blackcoffer.com/ai-and-its-im...              77   \n",
              "3       4  https://insights.blackcoffer.com/how-do-deep-l...              15   \n",
              "4       5  https://insights.blackcoffer.com/how-artificia...              57   \n",
              "\n",
              "   WORD COUNT  POSITIVE SCORE  NEGATIVE SCORE  POLARITY SCORE  \\\n",
              "0         432              17               9        0.307692   \n",
              "1         384              27               3        0.800000   \n",
              "2        1086              82              21        0.592233   \n",
              "3         254              14               0        1.000000   \n",
              "4         706              53              13        0.606061   \n",
              "\n",
              "   SUBJECTIVITY SCORE  AVG SENTENCE LENGTH  COMPLEX WORD COUNT  \\\n",
              "0            0.060185            18.000000                 324   \n",
              "1            0.078125            13.714286                 286   \n",
              "2            0.094843            14.103896                 864   \n",
              "3            0.055118            16.933333                 201   \n",
              "4            0.093484            12.385965                 539   \n",
              "\n",
              "   PERCENTAGE OF COMPLEX WORDS  FOG INDEX  AVG NUMBER OF WORDS PER SENTENCE  \n",
              "0                     0.750000   7.500000                         18.000000  \n",
              "1                     0.744792   5.783631                         13.714286  \n",
              "2                     0.795580   5.959790                         14.103896  \n",
              "3                     0.791339   7.089869                         16.933333  \n",
              "4                     0.763456   5.259768                         12.385965  "
            ],
            "text/html": [
              "\n",
              "  <div id=\"df-357aa1ca-2643-4885-ac46-e27698cd1b67\">\n",
              "    <div class=\"colab-df-container\">\n",
              "      <div>\n",
              "<style scoped>\n",
              "    .dataframe tbody tr th:only-of-type {\n",
              "        vertical-align: middle;\n",
              "    }\n",
              "\n",
              "    .dataframe tbody tr th {\n",
              "        vertical-align: top;\n",
              "    }\n",
              "\n",
              "    .dataframe thead th {\n",
              "        text-align: right;\n",
              "    }\n",
              "</style>\n",
              "<table border=\"1\" class=\"dataframe\">\n",
              "  <thead>\n",
              "    <tr style=\"text-align: right;\">\n",
              "      <th></th>\n",
              "      <th>URL_ID</th>\n",
              "      <th>URL</th>\n",
              "      <th>sentence_count</th>\n",
              "      <th>WORD COUNT</th>\n",
              "      <th>POSITIVE SCORE</th>\n",
              "      <th>NEGATIVE SCORE</th>\n",
              "      <th>POLARITY SCORE</th>\n",
              "      <th>SUBJECTIVITY SCORE</th>\n",
              "      <th>AVG SENTENCE LENGTH</th>\n",
              "      <th>COMPLEX WORD COUNT</th>\n",
              "      <th>PERCENTAGE OF COMPLEX WORDS</th>\n",
              "      <th>FOG INDEX</th>\n",
              "      <th>AVG NUMBER OF WORDS PER SENTENCE</th>\n",
              "    </tr>\n",
              "  </thead>\n",
              "  <tbody>\n",
              "    <tr>\n",
              "      <th>0</th>\n",
              "      <td>1</td>\n",
              "      <td>https://insights.blackcoffer.com/how-is-login-...</td>\n",
              "      <td>24</td>\n",
              "      <td>432</td>\n",
              "      <td>17</td>\n",
              "      <td>9</td>\n",
              "      <td>0.307692</td>\n",
              "      <td>0.060185</td>\n",
              "      <td>18.000000</td>\n",
              "      <td>324</td>\n",
              "      <td>0.750000</td>\n",
              "      <td>7.500000</td>\n",
              "      <td>18.000000</td>\n",
              "    </tr>\n",
              "    <tr>\n",
              "      <th>1</th>\n",
              "      <td>2</td>\n",
              "      <td>https://insights.blackcoffer.com/how-does-ai-h...</td>\n",
              "      <td>28</td>\n",
              "      <td>384</td>\n",
              "      <td>27</td>\n",
              "      <td>3</td>\n",
              "      <td>0.800000</td>\n",
              "      <td>0.078125</td>\n",
              "      <td>13.714286</td>\n",
              "      <td>286</td>\n",
              "      <td>0.744792</td>\n",
              "      <td>5.783631</td>\n",
              "      <td>13.714286</td>\n",
              "    </tr>\n",
              "    <tr>\n",
              "      <th>2</th>\n",
              "      <td>3</td>\n",
              "      <td>https://insights.blackcoffer.com/ai-and-its-im...</td>\n",
              "      <td>77</td>\n",
              "      <td>1086</td>\n",
              "      <td>82</td>\n",
              "      <td>21</td>\n",
              "      <td>0.592233</td>\n",
              "      <td>0.094843</td>\n",
              "      <td>14.103896</td>\n",
              "      <td>864</td>\n",
              "      <td>0.795580</td>\n",
              "      <td>5.959790</td>\n",
              "      <td>14.103896</td>\n",
              "    </tr>\n",
              "    <tr>\n",
              "      <th>3</th>\n",
              "      <td>4</td>\n",
              "      <td>https://insights.blackcoffer.com/how-do-deep-l...</td>\n",
              "      <td>15</td>\n",
              "      <td>254</td>\n",
              "      <td>14</td>\n",
              "      <td>0</td>\n",
              "      <td>1.000000</td>\n",
              "      <td>0.055118</td>\n",
              "      <td>16.933333</td>\n",
              "      <td>201</td>\n",
              "      <td>0.791339</td>\n",
              "      <td>7.089869</td>\n",
              "      <td>16.933333</td>\n",
              "    </tr>\n",
              "    <tr>\n",
              "      <th>4</th>\n",
              "      <td>5</td>\n",
              "      <td>https://insights.blackcoffer.com/how-artificia...</td>\n",
              "      <td>57</td>\n",
              "      <td>706</td>\n",
              "      <td>53</td>\n",
              "      <td>13</td>\n",
              "      <td>0.606061</td>\n",
              "      <td>0.093484</td>\n",
              "      <td>12.385965</td>\n",
              "      <td>539</td>\n",
              "      <td>0.763456</td>\n",
              "      <td>5.259768</td>\n",
              "      <td>12.385965</td>\n",
              "    </tr>\n",
              "  </tbody>\n",
              "</table>\n",
              "</div>\n",
              "      <button class=\"colab-df-convert\" onclick=\"convertToInteractive('df-357aa1ca-2643-4885-ac46-e27698cd1b67')\"\n",
              "              title=\"Convert this dataframe to an interactive table.\"\n",
              "              style=\"display:none;\">\n",
              "        \n",
              "  <svg xmlns=\"http://www.w3.org/2000/svg\" height=\"24px\"viewBox=\"0 0 24 24\"\n",
              "       width=\"24px\">\n",
              "    <path d=\"M0 0h24v24H0V0z\" fill=\"none\"/>\n",
              "    <path d=\"M18.56 5.44l.94 2.06.94-2.06 2.06-.94-2.06-.94-.94-2.06-.94 2.06-2.06.94zm-11 1L8.5 8.5l.94-2.06 2.06-.94-2.06-.94L8.5 2.5l-.94 2.06-2.06.94zm10 10l.94 2.06.94-2.06 2.06-.94-2.06-.94-.94-2.06-.94 2.06-2.06.94z\"/><path d=\"M17.41 7.96l-1.37-1.37c-.4-.4-.92-.59-1.43-.59-.52 0-1.04.2-1.43.59L10.3 9.45l-7.72 7.72c-.78.78-.78 2.05 0 2.83L4 21.41c.39.39.9.59 1.41.59.51 0 1.02-.2 1.41-.59l7.78-7.78 2.81-2.81c.8-.78.8-2.07 0-2.86zM5.41 20L4 18.59l7.72-7.72 1.47 1.35L5.41 20z\"/>\n",
              "  </svg>\n",
              "      </button>\n",
              "      \n",
              "  <style>\n",
              "    .colab-df-container {\n",
              "      display:flex;\n",
              "      flex-wrap:wrap;\n",
              "      gap: 12px;\n",
              "    }\n",
              "\n",
              "    .colab-df-convert {\n",
              "      background-color: #E8F0FE;\n",
              "      border: none;\n",
              "      border-radius: 50%;\n",
              "      cursor: pointer;\n",
              "      display: none;\n",
              "      fill: #1967D2;\n",
              "      height: 32px;\n",
              "      padding: 0 0 0 0;\n",
              "      width: 32px;\n",
              "    }\n",
              "\n",
              "    .colab-df-convert:hover {\n",
              "      background-color: #E2EBFA;\n",
              "      box-shadow: 0px 1px 2px rgba(60, 64, 67, 0.3), 0px 1px 3px 1px rgba(60, 64, 67, 0.15);\n",
              "      fill: #174EA6;\n",
              "    }\n",
              "\n",
              "    [theme=dark] .colab-df-convert {\n",
              "      background-color: #3B4455;\n",
              "      fill: #D2E3FC;\n",
              "    }\n",
              "\n",
              "    [theme=dark] .colab-df-convert:hover {\n",
              "      background-color: #434B5C;\n",
              "      box-shadow: 0px 1px 3px 1px rgba(0, 0, 0, 0.15);\n",
              "      filter: drop-shadow(0px 1px 2px rgba(0, 0, 0, 0.3));\n",
              "      fill: #FFFFFF;\n",
              "    }\n",
              "  </style>\n",
              "\n",
              "      <script>\n",
              "        const buttonEl =\n",
              "          document.querySelector('#df-357aa1ca-2643-4885-ac46-e27698cd1b67 button.colab-df-convert');\n",
              "        buttonEl.style.display =\n",
              "          google.colab.kernel.accessAllowed ? 'block' : 'none';\n",
              "\n",
              "        async function convertToInteractive(key) {\n",
              "          const element = document.querySelector('#df-357aa1ca-2643-4885-ac46-e27698cd1b67');\n",
              "          const dataTable =\n",
              "            await google.colab.kernel.invokeFunction('convertToInteractive',\n",
              "                                                     [key], {});\n",
              "          if (!dataTable) return;\n",
              "\n",
              "          const docLinkHtml = 'Like what you see? Visit the ' +\n",
              "            '<a target=\"_blank\" href=https://colab.research.google.com/notebooks/data_table.ipynb>data table notebook</a>'\n",
              "            + ' to learn more about interactive tables.';\n",
              "          element.innerHTML = '';\n",
              "          dataTable['output_type'] = 'display_data';\n",
              "          await google.colab.output.renderOutput(dataTable, element);\n",
              "          const docLink = document.createElement('div');\n",
              "          docLink.innerHTML = docLinkHtml;\n",
              "          element.appendChild(docLink);\n",
              "        }\n",
              "      </script>\n",
              "    </div>\n",
              "  </div>\n",
              "  "
            ]
          },
          "metadata": {},
          "execution_count": 42
        }
      ]
    },
    {
      "cell_type": "markdown",
      "source": [
        "##**Syllable Count Per Word**\n",
        "\n",
        "We count the number of Syllables in each word of the text by counting the vowels present in each word.\n",
        "\n",
        "We also handle some exceptions like words ending with \"es\",\"ed\" by not counting them as a syllable."
      ],
      "metadata": {
        "id": "eyHIyBRPWVu6"
      }
    },
    {
      "cell_type": "code",
      "source": [
        "syllables_count=[]             ## syllable count\n",
        "for i in range(1,len(text)+1):\n",
        "    \n",
        "    \n",
        "    syllables=syllable_count(globals()['pra%s' % i])\n",
        "    syllables_count.append(syllables)"
      ],
      "metadata": {
        "id": "-nbXYNj9WR0m"
      },
      "execution_count": 43,
      "outputs": []
    },
    {
      "cell_type": "code",
      "source": [
        "df['SYLLABLE PER WORD'] = syllables_count"
      ],
      "metadata": {
        "id": "5n3mydd7Wbw2"
      },
      "execution_count": 44,
      "outputs": []
    },
    {
      "cell_type": "code",
      "source": [
        ""
      ],
      "metadata": {
        "id": "S5FdfRcuWjnM"
      },
      "execution_count": null,
      "outputs": []
    }
  ]
}